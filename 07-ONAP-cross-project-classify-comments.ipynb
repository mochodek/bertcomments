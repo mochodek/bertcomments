{
 "cells": [
  {
   "cell_type": "markdown",
   "metadata": {},
   "source": [
    "# ONAP cross-project classify comments"
   ]
  },
  {
   "cell_type": "code",
   "execution_count": 1,
   "metadata": {
    "ExecuteTime": {
     "end_time": "2021-06-29T10:19:03.752652Z",
     "start_time": "2021-06-29T10:19:03.732656Z"
    }
   },
   "outputs": [
    {
     "data": {
      "text/plain": [
       "('C:\\\\Users\\\\user\\\\Research\\\\acora-pure',\n",
       " 'E:\\\\GoogleDrive\\\\acora-data',\n",
       " 'D:\\\\Research\\\\Datasets\\\\BERT')"
      ]
     },
     "execution_count": 1,
     "metadata": {},
     "output_type": "execute_result"
    }
   ],
   "source": [
    "# Get paths set either from environment variables or if not set use some default values\n",
    "import os\n",
    "\n",
    "if 'ACORA_HOME_PATH' in os.environ:\n",
    "    acora_home_path = os.environ['ACORA_HOME_PATH']\n",
    "else:\n",
    "    acora_home_path = \"../../acora\"\n",
    "\n",
    "if 'ACORA_DATA_PATH' in os.environ:\n",
    "    data_path = os.environ['ACORA_DATA_PATH']\n",
    "else:\n",
    "    data_path = \"../data\"\n",
    "    \n",
    "if 'BERT_PRETRAIN_MODELS_PATH' in os.environ:\n",
    "    berts_pretrain_path = os.environ['BERT_PRETRAIN_MODELS_PATH']\n",
    "else:\n",
    "    berts_pretrain_path = \"../bert\"\n",
    "\n",
    "acora_home_path, data_path, berts_pretrain_path"
   ]
  },
  {
   "cell_type": "code",
   "execution_count": 2,
   "metadata": {
    "ExecuteTime": {
     "end_time": "2021-06-29T10:19:04.598656Z",
     "start_time": "2021-06-29T10:19:04.594656Z"
    }
   },
   "outputs": [],
   "source": [
    "random_seed = 102329"
   ]
  },
  {
   "cell_type": "markdown",
   "metadata": {},
   "source": [
    "## Imports"
   ]
  },
  {
   "cell_type": "code",
   "execution_count": 3,
   "metadata": {
    "ExecuteTime": {
     "end_time": "2021-06-29T10:19:10.242934Z",
     "start_time": "2021-06-29T10:19:06.239216Z"
    }
   },
   "outputs": [],
   "source": [
    "import logging\n",
    "import os\n",
    "os.environ['TF_CPP_MIN_LOG_LEVEL'] = '3'  # or any {'0', '1', '2'}\n",
    "logging.getLogger(\"tensorflow\").setLevel(logging.ERROR)\n",
    "import json\n",
    "\n",
    "import pandas as pd\n",
    "import numpy as np\n",
    "\n",
    "import json\n",
    "\n",
    "from scipy import stats\n",
    "\n",
    "from sklearn.model_selection import train_test_split\n",
    "\n",
    "from collections import Counter\n",
    "\n",
    "from sklearn.model_selection import StratifiedKFold, KFold\n",
    "from sklearn.metrics import accuracy_score\n",
    "from sklearn.metrics import f1_score\n",
    "from sklearn.metrics import recall_score\n",
    "from sklearn.metrics import precision_score\n",
    "from sklearn.metrics import matthews_corrcoef as mcc_score\n",
    "from sklearn.metrics import roc_auc_score\n",
    "from sklearn.metrics import confusion_matrix, multilabel_confusion_matrix\n",
    "import matplotlib.pyplot as plt\n",
    "import matplotlib.gridspec as gridspec\n",
    "import seaborn as sns\n",
    "import math\n",
    "\n",
    "\n",
    "import warnings  \n",
    "with warnings.catch_warnings():  \n",
    "    warnings.filterwarnings(\"ignore\",category=FutureWarning)\n",
    "\n",
    "    import tensorflow as tf\n",
    "\n",
    "    if tf.__version__.startswith(\"1.\"):\n",
    "        os.environ['TF_KERAS'] = '0'\n",
    "        from tensorflow import ConfigProto, Session, set_random_seed\n",
    "        import keras\n",
    "        from keras.backend.tensorflow_backend import set_session\n",
    "        from keras.backend.tensorflow_backend import clear_session\n",
    "        from keras.backend.tensorflow_backend import get_session\n",
    "    else:\n",
    "        os.environ['TF_KERAS'] = '1'\n",
    "        from tensorflow.compat.v1 import ConfigProto, Session, set_random_seed\n",
    "        import tensorflow.compat.v1.keras as keras\n",
    "        tf.get_logger().setLevel('INFO')\n",
    "         \n",
    "    from tensorflow.python.client import device_lib\n",
    "\n",
    "\n",
    "    from keras_bert import Tokenizer, load_trained_model_from_checkpoint\n",
    "    from keras_bert.layers.extract import Extract\n",
    "\n",
    "    from keras_radam import RAdam\n",
    "\n",
    "from acora.vocab import BERTVocab\n",
    "from acora.comments import default_subject_columns, \\\n",
    "    load_comments_files, CommentPurposeTransformer, CommentSubjectTransformer, \\\n",
    "    plot_purpose_confusion_matrix, plot_subjects_confusion_matrix, \\\n",
    "    report_comment_predictions_accuracy, default_purpose_labels, save_comment_predictions_accuracy"
   ]
  },
  {
   "cell_type": "markdown",
   "metadata": {},
   "source": [
    "# Model"
   ]
  },
  {
   "cell_type": "code",
   "execution_count": 4,
   "metadata": {
    "ExecuteTime": {
     "end_time": "2021-06-29T10:19:10.289918Z",
     "start_time": "2021-06-29T10:19:10.276920Z"
    }
   },
   "outputs": [],
   "source": [
    "#bert_name = 'uncased_L-8_H-512_A-8'\n",
    "bert_name = 'multi_cased_L-12_H-768_A-12'\n",
    "\n",
    "config_path = os.path.join(berts_pretrain_path, bert_name, 'bert_config.json')\n",
    "checkpoint_path = os.path.join(berts_pretrain_path, bert_name, 'bert_model.ckpt')\n",
    "vocab_path = os.path.join(berts_pretrain_path, bert_name, 'vocab.txt')\n",
    "with open(config_path, \"r\", encoding='utf', errors='ignore') as json_file:\n",
    "    bert_config = json.load(json_file)"
   ]
  },
  {
   "cell_type": "code",
   "execution_count": 5,
   "metadata": {
    "ExecuteTime": {
     "end_time": "2021-06-29T10:19:10.335921Z",
     "start_time": "2021-06-29T10:19:10.321921Z"
    }
   },
   "outputs": [],
   "source": [
    "not_use_gpu = False\n",
    "seq_len = 128"
   ]
  },
  {
   "cell_type": "code",
   "execution_count": 6,
   "metadata": {
    "ExecuteTime": {
     "end_time": "2021-06-29T10:19:11.085539Z",
     "start_time": "2021-06-29T10:19:10.367882Z"
    }
   },
   "outputs": [
    {
     "name": "stdout",
     "output_type": "stream",
     "text": [
      "/device:CPU:0: , 268435456\n",
      "/device:XLA_CPU:0: device: XLA_CPU device, 17179869184\n",
      "/device:GPU:0: device: 0, name: NVIDIA TITAN Xp COLLECTORS EDITION, pci bus id: 0000:05:00.0, compute capability: 6.1, 10983471872\n",
      "/device:XLA_GPU:0: device: XLA_GPU device, 17179869184\n"
     ]
    }
   ],
   "source": [
    "gpus = [x.name for x in device_lib.list_local_devices() if x.device_type == 'GPU']\n",
    "if not not_use_gpu and len(gpus) == 0:\n",
    "    logger.error(\"You don't have a GPU available on your system, it can affect the performance...\")\n",
    "\n",
    "for gpu_entry in device_lib.list_local_devices():\n",
    "    if hasattr(gpu_entry, 'physical_device_desc'):\n",
    "        print(f\"{gpu_entry.name}: {gpu_entry.physical_device_desc}, {gpu_entry.memory_limit}\")"
   ]
  },
  {
   "cell_type": "code",
   "execution_count": 7,
   "metadata": {
    "ExecuteTime": {
     "end_time": "2021-06-29T10:19:11.858817Z",
     "start_time": "2021-06-29T10:19:11.835818Z"
    }
   },
   "outputs": [],
   "source": [
    "model = None\n",
    "\n",
    "def get_model(seq_len, subject_columns, layer_num, config_path, checkpoint_path, lr=2e-5, \n",
    "              not_use_gpu = not_use_gpu):\n",
    "    \n",
    "    global model\n",
    "\n",
    "    try:\n",
    "        del model \n",
    "    except:\n",
    "        print(\"Unable to delete the model\")\n",
    "    \n",
    "    if tf.__version__.startswith(\"1.\"):\n",
    "        sess = get_session()\n",
    "        clear_session()\n",
    "        sess.close()\n",
    "        gpus = [x.name for x in device_lib.list_local_devices() if x.device_type == 'GPU']\n",
    "        if not not_use_gpu and len(gpus) == 0:\n",
    "            logger.error(\"You don't have a GPU available on your system, it can affect the performance...\")\n",
    "\n",
    "        config = ConfigProto( device_count = {'GPU': 0 if not_use_gpu else len(gpus)})\n",
    "        config.gpu_options.per_process_gpu_memory_fraction = 1\n",
    "        config.gpu_options.visible_device_list = \"0\"\n",
    "        sess = Session(config=config)\n",
    "        keras.backend.set_session(sess)\n",
    "    else:\n",
    "        sess = tf.compat.v1.keras.backend.get_session()\n",
    "        tf.compat.v1.keras.backend.clear_session()\n",
    "        sess.close()\n",
    "        gpus = [x.name for x in device_lib.list_local_devices() if x.device_type == 'GPU']\n",
    "        if not not_use_gpu and len(gpus) == 0:\n",
    "            logger.error(\"You don't have a GPU available on your system, it can affect the performance...\")\n",
    "\n",
    "        config = ConfigProto( device_count = {'GPU': 0 if not_use_gpu else len(gpus)})\n",
    "        config.gpu_options.per_process_gpu_memory_fraction = 1\n",
    "        config.gpu_options.visible_device_list = \"0\"\n",
    "        sess = Session(config=config)\n",
    "        tf.compat.v1.keras.backend.set_session(sess)\n",
    "    \n",
    "    \n",
    "    model = load_trained_model_from_checkpoint(\n",
    "        config_path,\n",
    "        checkpoint_path,\n",
    "        training=True,\n",
    "        trainable=True,\n",
    "        seq_len=seq_len\n",
    "    )\n",
    "    \n",
    "    inputs = model.inputs[:2]\n",
    "    #dense = model.get_layer(f'Encoder-{layer_num}-FeedForward-Norm').output\n",
    "    #dense = Extract(index=0, name=\"Extract\")(dense)\n",
    "    dense = model.get_layer('NSP-Dense').output\n",
    "    dense = keras.layers.Dropout(0.1)(dense)\n",
    "\n",
    "\n",
    "    losses = dict()\n",
    "    loss_weights = dict()\n",
    "    outputs = []\n",
    "   \n",
    "    for i, subject_class in enumerate(subject_columns):\n",
    "        outputs.append(keras.layers.Dense(units=1, activation='sigmoid', name=f\"{subject_class}_output\")(dense))\n",
    "        losses[f\"{subject_class}_output\"] = \"binary_crossentropy\"\n",
    "        loss_weights[f\"{subject_class}_output\"] = 1.0\n",
    "\n",
    "    model = keras.models.Model(inputs, outputs)\n",
    "    \n",
    "    model.compile(\n",
    "        RAdam(learning_rate=lr,beta_1=0.9, beta_2=0.999,warmup_proportion=0.1),\n",
    "        loss=losses, \n",
    "        loss_weights=loss_weights,\n",
    "        metrics=['accuracy'],\n",
    "    )\n",
    "    \n",
    "    return model\n"
   ]
  },
  {
   "cell_type": "code",
   "execution_count": 8,
   "metadata": {
    "ExecuteTime": {
     "end_time": "2021-06-29T10:19:13.760753Z",
     "start_time": "2021-06-29T10:19:13.603734Z"
    }
   },
   "outputs": [],
   "source": [
    "vocab = BERTVocab.load_from_file(vocab_path)"
   ]
  },
  {
   "cell_type": "code",
   "execution_count": 9,
   "metadata": {
    "ExecuteTime": {
     "end_time": "2021-06-29T10:19:14.304018Z",
     "start_time": "2021-06-29T10:19:14.275014Z"
    }
   },
   "outputs": [],
   "source": [
    "tokenizer = Tokenizer(vocab.token_dict)"
   ]
  },
  {
   "cell_type": "markdown",
   "metadata": {},
   "source": [
    "## Classify ONAP"
   ]
  },
  {
   "cell_type": "code",
   "execution_count": 10,
   "metadata": {
    "ExecuteTime": {
     "end_time": "2021-06-29T10:19:35.917077Z",
     "start_time": "2021-06-29T10:19:33.321056Z"
    }
   },
   "outputs": [
    {
     "name": "stderr",
     "output_type": "stream",
     "text": [
      "Loading data from E:\\GoogleDrive\\acora-data\\mono\\mono-all.xlsx\n",
      "Loading data from E:\\GoogleDrive\\acora-data\\wireshark\\wireshark_comments_all.xlsx\n",
      "Loaded 1,420 rows and 15 cols...\n",
      "Loading data from E:\\GoogleDrive\\acora-data\\onap\\onap_comments_all.xlsx\n",
      "Loaded 1,252 rows and 15 cols...\n"
     ]
    }
   ],
   "source": [
    "sep = \"$\"\n",
    "\n",
    "line_column = \"line_contents\"\n",
    "message_column = \"message\"\n",
    "purpose_column = \"purpose\"\n",
    "subject_columns = default_subject_columns\n",
    "\n",
    "cols = [line_column, message_column, purpose_column] + subject_columns\n",
    "\n",
    "training_data_paths = [\n",
    "    os.path.join(data_path, \"mono\", \"mono-all.xlsx\"),\n",
    "    os.path.join(data_path, \"wireshark\", \"wireshark_comments_all.xlsx\"),\n",
    "]\n",
    "\n",
    "testing_data_paths = [\n",
    "    os.path.join(data_path, \"onap\", \"onap_comments_all.xlsx\")\n",
    "]\n",
    "reviews_train_df = load_comments_files(training_data_paths, cols, sep)\n",
    "reviews_test_df = load_comments_files(testing_data_paths, cols, sep)\n",
    "\n",
    "duplicates = pd.concat(g for _, g in reviews_train_df.groupby(message_column) if len(g) > 1)\n",
    "unique = pd.concat(g for _, g in reviews_train_df.groupby(message_column) if len(g) == 1)\n",
    "reviews_train_df = pd.concat([duplicates, unique])\n",
    "\n",
    "duplicates = pd.concat(g for _, g in reviews_test_df.groupby(message_column) if len(g) > 1)\n",
    "unique = pd.concat(g for _, g in reviews_test_df.groupby(message_column) if len(g) == 1)\n",
    "reviews_test_df = pd.concat([duplicates, unique])\n"
   ]
  },
  {
   "cell_type": "code",
   "execution_count": 11,
   "metadata": {
    "ExecuteTime": {
     "end_time": "2021-06-29T10:19:36.059101Z",
     "start_time": "2021-06-29T10:19:36.045076Z"
    }
   },
   "outputs": [
    {
     "data": {
      "text/plain": [
       "((1420, 15), (1252, 15))"
      ]
     },
     "execution_count": 11,
     "metadata": {},
     "output_type": "execute_result"
    }
   ],
   "source": [
    "reviews_train_df.shape,  reviews_test_df.shape"
   ]
  },
  {
   "cell_type": "code",
   "execution_count": 12,
   "metadata": {
    "ExecuteTime": {
     "end_time": "2021-06-29T10:19:36.667100Z",
     "start_time": "2021-06-29T10:19:36.171076Z"
    }
   },
   "outputs": [],
   "source": [
    "tokenized_train_messages = [tokenizer.encode(str(text), max_len=seq_len)[0] for text in reviews_train_df[message_column].tolist()] \n",
    "x_train = [np.array(tokenized_train_messages), np.zeros_like(tokenized_train_messages)]"
   ]
  },
  {
   "cell_type": "code",
   "execution_count": 13,
   "metadata": {
    "ExecuteTime": {
     "end_time": "2021-06-29T10:19:36.992404Z",
     "start_time": "2021-06-29T10:19:36.981405Z"
    }
   },
   "outputs": [],
   "source": [
    "subject_transformer_train = CommentSubjectTransformer(reviews_train_df, subject_columns)\n",
    "y_train_subject = subject_transformer_train.encode_one_hot_all_subjects()"
   ]
  },
  {
   "cell_type": "code",
   "execution_count": 14,
   "metadata": {
    "ExecuteTime": {
     "end_time": "2021-06-29T10:19:38.125963Z",
     "start_time": "2021-06-29T10:19:37.775944Z"
    }
   },
   "outputs": [],
   "source": [
    "tokenized_test_messages = [tokenizer.encode(str(text), max_len=seq_len)[0] for text in reviews_test_df[message_column].tolist()] \n",
    "x_test = [np.array(tokenized_test_messages), np.zeros_like(tokenized_test_messages)]\n"
   ]
  },
  {
   "cell_type": "code",
   "execution_count": 15,
   "metadata": {
    "ExecuteTime": {
     "end_time": "2021-06-29T10:19:38.405944Z",
     "start_time": "2021-06-29T10:19:38.388943Z"
    }
   },
   "outputs": [],
   "source": [
    "subject_transformer_test = CommentSubjectTransformer(reviews_test_df, subject_columns)\n",
    "y_test_subject = subject_transformer_test.encode_one_hot_all_subjects()"
   ]
  },
  {
   "cell_type": "code",
   "execution_count": 16,
   "metadata": {
    "ExecuteTime": {
     "end_time": "2021-06-29T10:19:39.074406Z",
     "start_time": "2021-06-29T10:19:39.062407Z"
    }
   },
   "outputs": [],
   "source": [
    "y_all_train = dict()\n",
    "for i, subject_class in enumerate(subject_columns):\n",
    "    y_all_train[f\"{subject_class}_output\"] = subject_transformer_train.encode_binary_single_subject(subject_class).values\n"
   ]
  },
  {
   "cell_type": "code",
   "execution_count": 17,
   "metadata": {
    "ExecuteTime": {
     "end_time": "2021-06-29T10:19:39.714701Z",
     "start_time": "2021-06-29T10:19:39.709701Z"
    }
   },
   "outputs": [],
   "source": [
    "y_all_test = dict()\n",
    "for i, subject_class in enumerate(subject_columns):\n",
    "    y_all_test[f\"{subject_class}_output\"] = subject_transformer_test.encode_binary_single_subject(subject_class).values\n"
   ]
  },
  {
   "cell_type": "code",
   "execution_count": 18,
   "metadata": {
    "ExecuteTime": {
     "end_time": "2021-06-29T10:19:40.562661Z",
     "start_time": "2021-06-29T10:19:40.543660Z"
    }
   },
   "outputs": [
    {
     "name": "stdout",
     "output_type": "stream",
     "text": [
      "Calculated subject weights: {'code_design': array([ 0.5171158 , 15.10638298]), 'code_style': array([0.54281346, 6.33928571]), 'code_naming': array([ 0.51636364, 15.77777778]), 'code_logic': array([0.76839827, 1.43145161]), 'code_io': array([ 0.51523948, 16.9047619 ]), 'code_data': array([0.8189158 , 1.28390597]), 'code_doc': array([ 0.51824818, 14.2       ]), 'code_api': array([0.56528662, 4.32926829]), 'compatibility': array([ 0.52359882, 11.09375   ]), 'rule_def': array([ 0.51300578, 19.72222222]), 'config_commit_patch_review': array([ 0.52244297, 11.63934426]), 'config_building_installing': array([ 0.52014652, 12.90909091])}\n"
     ]
    }
   ],
   "source": [
    "subject_class_weights_train = subject_transformer_train.class_weights()\n",
    "print(f\"Calculated subject weights: {subject_class_weights_train}\")\n",
    "\n",
    "class_weights_all_train = dict()\n",
    "for i, subject_class in enumerate(subject_columns):\n",
    "    class_weights_all_train[f\"{subject_class}_output\"] = subject_class_weights_train[subject_class]\n"
   ]
  },
  {
   "cell_type": "code",
   "execution_count": 19,
   "metadata": {
    "ExecuteTime": {
     "end_time": "2021-06-29T10:35:21.778090Z",
     "start_time": "2021-06-29T10:19:41.328367Z"
    }
   },
   "outputs": [
    {
     "name": "stdout",
     "output_type": "stream",
     "text": [
      "WARNING:tensorflow:AutoGraph could not transform <bound method TokenEmbedding.call of <keras_bert.layers.embedding.TokenEmbedding object at 0x00000261328BF048>> and will run it as-is.\n",
      "Please report this to the TensorFlow team. When filing the bug, set the verbosity to 10 (on Linux, `export AUTOGRAPH_VERBOSITY=10`) and attach the full output.\n",
      "Cause: 'arguments' object has no attribute 'posonlyargs'\n",
      "To silence this warning, decorate the function with @tf.autograph.experimental.do_not_convert\n",
      "WARNING: AutoGraph could not transform <bound method TokenEmbedding.call of <keras_bert.layers.embedding.TokenEmbedding object at 0x00000261328BF048>> and will run it as-is.\n",
      "Please report this to the TensorFlow team. When filing the bug, set the verbosity to 10 (on Linux, `export AUTOGRAPH_VERBOSITY=10`) and attach the full output.\n",
      "Cause: 'arguments' object has no attribute 'posonlyargs'\n",
      "To silence this warning, decorate the function with @tf.autograph.experimental.do_not_convert\n",
      "WARNING:tensorflow:AutoGraph could not transform <bound method PositionEmbedding.call of <keras_pos_embd.pos_embd.PositionEmbedding object at 0x00000261328BFE80>> and will run it as-is.\n",
      "Please report this to the TensorFlow team. When filing the bug, set the verbosity to 10 (on Linux, `export AUTOGRAPH_VERBOSITY=10`) and attach the full output.\n",
      "Cause: module 'gast' has no attribute 'Constant'\n",
      "To silence this warning, decorate the function with @tf.autograph.experimental.do_not_convert\n",
      "WARNING: AutoGraph could not transform <bound method PositionEmbedding.call of <keras_pos_embd.pos_embd.PositionEmbedding object at 0x00000261328BFE80>> and will run it as-is.\n",
      "Please report this to the TensorFlow team. When filing the bug, set the verbosity to 10 (on Linux, `export AUTOGRAPH_VERBOSITY=10`) and attach the full output.\n",
      "Cause: module 'gast' has no attribute 'Constant'\n",
      "To silence this warning, decorate the function with @tf.autograph.experimental.do_not_convert\n",
      "WARNING:tensorflow:AutoGraph could not transform <bound method LayerNormalization.call of <keras_layer_normalization.layer_normalization.LayerNormalization object at 0x0000026131E731D0>> and will run it as-is.\n",
      "Please report this to the TensorFlow team. When filing the bug, set the verbosity to 10 (on Linux, `export AUTOGRAPH_VERBOSITY=10`) and attach the full output.\n",
      "Cause: 'arguments' object has no attribute 'posonlyargs'\n",
      "To silence this warning, decorate the function with @tf.autograph.experimental.do_not_convert\n",
      "WARNING: AutoGraph could not transform <bound method LayerNormalization.call of <keras_layer_normalization.layer_normalization.LayerNormalization object at 0x0000026131E731D0>> and will run it as-is.\n",
      "Please report this to the TensorFlow team. When filing the bug, set the verbosity to 10 (on Linux, `export AUTOGRAPH_VERBOSITY=10`) and attach the full output.\n",
      "Cause: 'arguments' object has no attribute 'posonlyargs'\n",
      "To silence this warning, decorate the function with @tf.autograph.experimental.do_not_convert\n",
      "WARNING:tensorflow:AutoGraph could not transform <bound method MultiHeadAttention.call of <keras_multi_head.multi_head_attention.MultiHeadAttention object at 0x0000026131E732B0>> and will run it as-is.\n",
      "Please report this to the TensorFlow team. When filing the bug, set the verbosity to 10 (on Linux, `export AUTOGRAPH_VERBOSITY=10`) and attach the full output.\n",
      "Cause: module 'gast' has no attribute 'Constant'\n",
      "To silence this warning, decorate the function with @tf.autograph.experimental.do_not_convert\n",
      "WARNING: AutoGraph could not transform <bound method MultiHeadAttention.call of <keras_multi_head.multi_head_attention.MultiHeadAttention object at 0x0000026131E732B0>> and will run it as-is.\n",
      "Please report this to the TensorFlow team. When filing the bug, set the verbosity to 10 (on Linux, `export AUTOGRAPH_VERBOSITY=10`) and attach the full output.\n",
      "Cause: module 'gast' has no attribute 'Constant'\n",
      "To silence this warning, decorate the function with @tf.autograph.experimental.do_not_convert\n",
      "WARNING:tensorflow:AutoGraph could not transform <bound method ScaledDotProductAttention.call of <keras_self_attention.scaled_dot_attention.ScaledDotProductAttention object at 0x000002613271D400>> and will run it as-is.\n",
      "Please report this to the TensorFlow team. When filing the bug, set the verbosity to 10 (on Linux, `export AUTOGRAPH_VERBOSITY=10`) and attach the full output.\n",
      "Cause: module 'gast' has no attribute 'Constant'\n",
      "To silence this warning, decorate the function with @tf.autograph.experimental.do_not_convert\n",
      "WARNING: AutoGraph could not transform <bound method ScaledDotProductAttention.call of <keras_self_attention.scaled_dot_attention.ScaledDotProductAttention object at 0x000002613271D400>> and will run it as-is.\n",
      "Please report this to the TensorFlow team. When filing the bug, set the verbosity to 10 (on Linux, `export AUTOGRAPH_VERBOSITY=10`) and attach the full output.\n",
      "Cause: module 'gast' has no attribute 'Constant'\n",
      "To silence this warning, decorate the function with @tf.autograph.experimental.do_not_convert\n",
      "WARNING:tensorflow:AutoGraph could not transform <bound method FeedForward.call of <keras_position_wise_feed_forward.feed_forward.FeedForward object at 0x00000261321A0160>> and will run it as-is.\n",
      "Please report this to the TensorFlow team. When filing the bug, set the verbosity to 10 (on Linux, `export AUTOGRAPH_VERBOSITY=10`) and attach the full output.\n",
      "Cause: 'arguments' object has no attribute 'posonlyargs'\n",
      "To silence this warning, decorate the function with @tf.autograph.experimental.do_not_convert\n",
      "WARNING: AutoGraph could not transform <bound method FeedForward.call of <keras_position_wise_feed_forward.feed_forward.FeedForward object at 0x00000261321A0160>> and will run it as-is.\n",
      "Please report this to the TensorFlow team. When filing the bug, set the verbosity to 10 (on Linux, `export AUTOGRAPH_VERBOSITY=10`) and attach the full output.\n",
      "Cause: 'arguments' object has no attribute 'posonlyargs'\n",
      "To silence this warning, decorate the function with @tf.autograph.experimental.do_not_convert\n",
      "WARNING:tensorflow:AutoGraph could not transform <bound method EmbeddingSimilarity.call of <keras_bert.layers.embedding.EmbeddingSimilarity object at 0x00000263EEF6FEF0>> and will run it as-is.\n",
      "Please report this to the TensorFlow team. When filing the bug, set the verbosity to 10 (on Linux, `export AUTOGRAPH_VERBOSITY=10`) and attach the full output.\n",
      "Cause: 'arguments' object has no attribute 'posonlyargs'\n",
      "To silence this warning, decorate the function with @tf.autograph.experimental.do_not_convert\n",
      "WARNING: AutoGraph could not transform <bound method EmbeddingSimilarity.call of <keras_bert.layers.embedding.EmbeddingSimilarity object at 0x00000263EEF6FEF0>> and will run it as-is.\n",
      "Please report this to the TensorFlow team. When filing the bug, set the verbosity to 10 (on Linux, `export AUTOGRAPH_VERBOSITY=10`) and attach the full output.\n",
      "Cause: 'arguments' object has no attribute 'posonlyargs'\n",
      "To silence this warning, decorate the function with @tf.autograph.experimental.do_not_convert\n",
      "WARNING:tensorflow:AutoGraph could not transform <bound method Masked.call of <keras_bert.layers.masked.Masked object at 0x00000263EEF87DD8>> and will run it as-is.\n",
      "Please report this to the TensorFlow team. When filing the bug, set the verbosity to 10 (on Linux, `export AUTOGRAPH_VERBOSITY=10`) and attach the full output.\n",
      "Cause: module 'gast' has no attribute 'Constant'\n",
      "To silence this warning, decorate the function with @tf.autograph.experimental.do_not_convert\n",
      "WARNING: AutoGraph could not transform <bound method Masked.call of <keras_bert.layers.masked.Masked object at 0x00000263EEF87DD8>> and will run it as-is.\n",
      "Please report this to the TensorFlow team. When filing the bug, set the verbosity to 10 (on Linux, `export AUTOGRAPH_VERBOSITY=10`) and attach the full output.\n",
      "Cause: module 'gast' has no attribute 'Constant'\n",
      "To silence this warning, decorate the function with @tf.autograph.experimental.do_not_convert\n",
      "WARNING:tensorflow:AutoGraph could not transform <bound method Extract.call of <keras_bert.layers.extract.Extract object at 0x00000263EEF8BB00>> and will run it as-is.\n",
      "Please report this to the TensorFlow team. When filing the bug, set the verbosity to 10 (on Linux, `export AUTOGRAPH_VERBOSITY=10`) and attach the full output.\n",
      "Cause: 'arguments' object has no attribute 'posonlyargs'\n",
      "To silence this warning, decorate the function with @tf.autograph.experimental.do_not_convert\n"
     ]
    },
    {
     "name": "stdout",
     "output_type": "stream",
     "text": [
      "WARNING: AutoGraph could not transform <bound method Extract.call of <keras_bert.layers.extract.Extract object at 0x00000263EEF8BB00>> and will run it as-is.\n",
      "Please report this to the TensorFlow team. When filing the bug, set the verbosity to 10 (on Linux, `export AUTOGRAPH_VERBOSITY=10`) and attach the full output.\n",
      "Cause: 'arguments' object has no attribute 'posonlyargs'\n",
      "To silence this warning, decorate the function with @tf.autograph.experimental.do_not_convert\n",
      "Epoch 1/15\n",
      "WARNING:tensorflow:AutoGraph could not transform <function Model.make_train_function.<locals>.train_function at 0x000002615F782730> and will run it as-is.\n",
      "Please report this to the TensorFlow team. When filing the bug, set the verbosity to 10 (on Linux, `export AUTOGRAPH_VERBOSITY=10`) and attach the full output.\n",
      "Cause: 'arguments' object has no attribute 'posonlyargs'\n",
      "To silence this warning, decorate the function with @tf.autograph.experimental.do_not_convert\n",
      "WARNING: AutoGraph could not transform <function Model.make_train_function.<locals>.train_function at 0x000002615F782730> and will run it as-is.\n",
      "Please report this to the TensorFlow team. When filing the bug, set the verbosity to 10 (on Linux, `export AUTOGRAPH_VERBOSITY=10`) and attach the full output.\n",
      "Cause: 'arguments' object has no attribute 'posonlyargs'\n",
      "To silence this warning, decorate the function with @tf.autograph.experimental.do_not_convert\n",
      "60/60 [==============================] - 60s 995ms/step - loss: 6.3803 - code_design_output_loss: 0.5433 - code_style_output_loss: 0.6061 - code_naming_output_loss: 0.3336 - code_logic_output_loss: 0.6626 - code_io_output_loss: 0.5084 - code_data_output_loss: 0.7330 - code_doc_output_loss: 0.3719 - code_api_output_loss: 0.5031 - compatibility_output_loss: 0.5303 - rule_def_output_loss: 0.4830 - config_commit_patch_review_output_loss: 0.5581 - config_building_installing_output_loss: 0.5470 - code_design_output_accuracy: 0.7359 - code_style_output_accuracy: 0.6218 - code_naming_output_accuracy: 0.9613 - code_logic_output_accuracy: 0.5972 - code_io_output_accuracy: 0.8190 - code_data_output_accuracy: 0.4535 - code_doc_output_accuracy: 0.9648 - code_api_output_accuracy: 0.8620 - compatibility_output_accuracy: 0.7380 - rule_def_output_accuracy: 0.8768 - config_commit_patch_review_output_accuracy: 0.7085 - config_building_installing_output_accuracy: 0.6535\n",
      "Epoch 2/15\n",
      "60/60 [==============================] - 57s 953ms/step - loss: 3.3231 - code_design_output_loss: 0.1843 - code_style_output_loss: 0.2978 - code_naming_output_loss: 0.1560 - code_logic_output_loss: 0.6180 - code_io_output_loss: 0.1757 - code_data_output_loss: 0.6123 - code_doc_output_loss: 0.1748 - code_api_output_loss: 0.3476 - compatibility_output_loss: 0.1975 - rule_def_output_loss: 0.1635 - config_commit_patch_review_output_loss: 0.2069 - config_building_installing_output_loss: 0.1887 - code_design_output_accuracy: 0.9669 - code_style_output_accuracy: 0.9211 - code_naming_output_accuracy: 0.9683 - code_logic_output_accuracy: 0.6542 - code_io_output_accuracy: 0.9704 - code_data_output_accuracy: 0.6556 - code_doc_output_accuracy: 0.9648 - code_api_output_accuracy: 0.8845 - compatibility_output_accuracy: 0.9549 - rule_def_output_accuracy: 0.9746 - config_commit_patch_review_output_accuracy: 0.9570 - config_building_installing_output_accuracy: 0.9599\n",
      "Epoch 3/15\n",
      "60/60 [==============================] - 57s 955ms/step - loss: 2.9057 - code_design_output_loss: 0.1572 - code_style_output_loss: 0.2746 - code_naming_output_loss: 0.1402 - code_logic_output_loss: 0.5410 - code_io_output_loss: 0.1448 - code_data_output_loss: 0.5293 - code_doc_output_loss: 0.1601 - code_api_output_loss: 0.3124 - compatibility_output_loss: 0.1763 - rule_def_output_loss: 0.1324 - config_commit_patch_review_output_loss: 0.1788 - config_building_installing_output_loss: 0.1585 - code_design_output_accuracy: 0.9669 - code_style_output_accuracy: 0.9211 - code_naming_output_accuracy: 0.9683 - code_logic_output_accuracy: 0.7113 - code_io_output_accuracy: 0.9704 - code_data_output_accuracy: 0.7239 - code_doc_output_accuracy: 0.9648 - code_api_output_accuracy: 0.8845 - compatibility_output_accuracy: 0.9549 - rule_def_output_accuracy: 0.9746 - config_commit_patch_review_output_accuracy: 0.9570 - config_building_installing_output_accuracy: 0.9613\n",
      "Epoch 4/15\n",
      "60/60 [==============================] - 58s 959ms/step - loss: 2.6523 - code_design_output_loss: 0.1448 - code_style_output_loss: 0.2590 - code_naming_output_loss: 0.1366 - code_logic_output_loss: 0.4905 - code_io_output_loss: 0.1390 - code_data_output_loss: 0.4442 - code_doc_output_loss: 0.1559 - code_api_output_loss: 0.2712 - compatibility_output_loss: 0.1682 - rule_def_output_loss: 0.1245 - config_commit_patch_review_output_loss: 0.1742 - config_building_installing_output_loss: 0.1442 - code_design_output_accuracy: 0.9669 - code_style_output_accuracy: 0.9211 - code_naming_output_accuracy: 0.9683 - code_logic_output_accuracy: 0.7444 - code_io_output_accuracy: 0.9704 - code_data_output_accuracy: 0.7951 - code_doc_output_accuracy: 0.9648 - code_api_output_accuracy: 0.8908 - compatibility_output_accuracy: 0.9549 - rule_def_output_accuracy: 0.9746 - config_commit_patch_review_output_accuracy: 0.9570 - config_building_installing_output_accuracy: 0.9613\n",
      "Epoch 5/15\n",
      "60/60 [==============================] - 57s 951ms/step - loss: 2.3880 - code_design_output_loss: 0.1395 - code_style_output_loss: 0.2204 - code_naming_output_loss: 0.1265 - code_logic_output_loss: 0.4172 - code_io_output_loss: 0.1341 - code_data_output_loss: 0.3756 - code_doc_output_loss: 0.1520 - code_api_output_loss: 0.2527 - compatibility_output_loss: 0.1560 - rule_def_output_loss: 0.1181 - config_commit_patch_review_output_loss: 0.1668 - config_building_installing_output_loss: 0.1291 - code_design_output_accuracy: 0.9669 - code_style_output_accuracy: 0.9225 - code_naming_output_accuracy: 0.9683 - code_logic_output_accuracy: 0.8063 - code_io_output_accuracy: 0.9704 - code_data_output_accuracy: 0.8472 - code_doc_output_accuracy: 0.9648 - code_api_output_accuracy: 0.9007 - compatibility_output_accuracy: 0.9549 - rule_def_output_accuracy: 0.9746 - config_commit_patch_review_output_accuracy: 0.9570 - config_building_installing_output_accuracy: 0.9606\n",
      "Epoch 6/15\n",
      "60/60 [==============================] - 57s 951ms/step - loss: 2.1355 - code_design_output_loss: 0.1302 - code_style_output_loss: 0.1710 - code_naming_output_loss: 0.1164 - code_logic_output_loss: 0.3686 - code_io_output_loss: 0.1262 - code_data_output_loss: 0.3291 - code_doc_output_loss: 0.1500 - code_api_output_loss: 0.2272 - compatibility_output_loss: 0.1406 - rule_def_output_loss: 0.1078 - config_commit_patch_review_output_loss: 0.1509 - config_building_installing_output_loss: 0.1175 - code_design_output_accuracy: 0.9669 - code_style_output_accuracy: 0.9479 - code_naming_output_accuracy: 0.9683 - code_logic_output_accuracy: 0.8373 - code_io_output_accuracy: 0.9704 - code_data_output_accuracy: 0.8697 - code_doc_output_accuracy: 0.9648 - code_api_output_accuracy: 0.9106 - compatibility_output_accuracy: 0.9556 - rule_def_output_accuracy: 0.9746 - config_commit_patch_review_output_accuracy: 0.9563 - config_building_installing_output_accuracy: 0.9627\n",
      "Epoch 7/15\n"
     ]
    },
    {
     "name": "stdout",
     "output_type": "stream",
     "text": [
      "60/60 [==============================] - 57s 955ms/step - loss: 1.8641 - code_design_output_loss: 0.1238 - code_style_output_loss: 0.1331 - code_naming_output_loss: 0.1075 - code_logic_output_loss: 0.3032 - code_io_output_loss: 0.1199 - code_data_output_loss: 0.2585 - code_doc_output_loss: 0.1434 - code_api_output_loss: 0.2069 - compatibility_output_loss: 0.1259 - rule_def_output_loss: 0.0998 - config_commit_patch_review_output_loss: 0.1367 - config_building_installing_output_loss: 0.1052 - code_design_output_accuracy: 0.9676 - code_style_output_accuracy: 0.9606 - code_naming_output_accuracy: 0.9697 - code_logic_output_accuracy: 0.8768 - code_io_output_accuracy: 0.9704 - code_data_output_accuracy: 0.9056 - code_doc_output_accuracy: 0.9648 - code_api_output_accuracy: 0.9204 - compatibility_output_accuracy: 0.9542 - rule_def_output_accuracy: 0.9739 - config_commit_patch_review_output_accuracy: 0.9577 - config_building_installing_output_accuracy: 0.9627\n",
      "Epoch 8/15\n",
      "60/60 [==============================] - 57s 957ms/step - loss: 1.5907 - code_design_output_loss: 0.1162 - code_style_output_loss: 0.0966 - code_naming_output_loss: 0.0919 - code_logic_output_loss: 0.2402 - code_io_output_loss: 0.1118 - code_data_output_loss: 0.2093 - code_doc_output_loss: 0.1387 - code_api_output_loss: 0.1672 - compatibility_output_loss: 0.1166 - rule_def_output_loss: 0.0906 - config_commit_patch_review_output_loss: 0.1178 - config_building_installing_output_loss: 0.0937 - code_design_output_accuracy: 0.9732 - code_style_output_accuracy: 0.9789 - code_naming_output_accuracy: 0.9725 - code_logic_output_accuracy: 0.9106 - code_io_output_accuracy: 0.9704 - code_data_output_accuracy: 0.9303 - code_doc_output_accuracy: 0.9648 - code_api_output_accuracy: 0.9380 - compatibility_output_accuracy: 0.9585 - rule_def_output_accuracy: 0.9754 - config_commit_patch_review_output_accuracy: 0.9606 - config_building_installing_output_accuracy: 0.9641\n",
      "Epoch 9/15\n",
      "60/60 [==============================] - 57s 954ms/step - loss: 1.3721 - code_design_output_loss: 0.1094 - code_style_output_loss: 0.0817 - code_naming_output_loss: 0.0898 - code_logic_output_loss: 0.1918 - code_io_output_loss: 0.1078 - code_data_output_loss: 0.1520 - code_doc_output_loss: 0.1309 - code_api_output_loss: 0.1394 - compatibility_output_loss: 0.1021 - rule_def_output_loss: 0.0839 - config_commit_patch_review_output_loss: 0.1033 - config_building_installing_output_loss: 0.0799 - code_design_output_accuracy: 0.9754 - code_style_output_accuracy: 0.9824 - code_naming_output_accuracy: 0.9711 - code_logic_output_accuracy: 0.9345 - code_io_output_accuracy: 0.9704 - code_data_output_accuracy: 0.9556 - code_doc_output_accuracy: 0.9648 - code_api_output_accuracy: 0.9570 - compatibility_output_accuracy: 0.9620 - rule_def_output_accuracy: 0.9761 - config_commit_patch_review_output_accuracy: 0.9648 - config_building_installing_output_accuracy: 0.9732\n",
      "Epoch 10/15\n",
      "60/60 [==============================] - 57s 953ms/step - loss: 1.2124 - code_design_output_loss: 0.1032 - code_style_output_loss: 0.0650 - code_naming_output_loss: 0.0757 - code_logic_output_loss: 0.1598 - code_io_output_loss: 0.1048 - code_data_output_loss: 0.1321 - code_doc_output_loss: 0.1172 - code_api_output_loss: 0.1227 - compatibility_output_loss: 0.0917 - rule_def_output_loss: 0.0795 - config_commit_patch_review_output_loss: 0.0868 - config_building_installing_output_loss: 0.0740 - code_design_output_accuracy: 0.9754 - code_style_output_accuracy: 0.9852 - code_naming_output_accuracy: 0.9754 - code_logic_output_accuracy: 0.9521 - code_io_output_accuracy: 0.9704 - code_data_output_accuracy: 0.9585 - code_doc_output_accuracy: 0.9648 - code_api_output_accuracy: 0.9627 - compatibility_output_accuracy: 0.9655 - rule_def_output_accuracy: 0.9775 - config_commit_patch_review_output_accuracy: 0.9732 - config_building_installing_output_accuracy: 0.9725\n",
      "Epoch 11/15\n",
      "60/60 [==============================] - 57s 958ms/step - loss: 1.0367 - code_design_output_loss: 0.0970 - code_style_output_loss: 0.0508 - code_naming_output_loss: 0.0611 - code_logic_output_loss: 0.1134 - code_io_output_loss: 0.0948 - code_data_output_loss: 0.1041 - code_doc_output_loss: 0.1106 - code_api_output_loss: 0.1041 - compatibility_output_loss: 0.0826 - rule_def_output_loss: 0.0715 - config_commit_patch_review_output_loss: 0.0793 - config_building_installing_output_loss: 0.0676 - code_design_output_accuracy: 0.9761 - code_style_output_accuracy: 0.9930 - code_naming_output_accuracy: 0.9796 - code_logic_output_accuracy: 0.9739 - code_io_output_accuracy: 0.9704 - code_data_output_accuracy: 0.9739 - code_doc_output_accuracy: 0.9662 - code_api_output_accuracy: 0.9697 - compatibility_output_accuracy: 0.9704 - rule_def_output_accuracy: 0.9824 - config_commit_patch_review_output_accuracy: 0.9754 - config_building_installing_output_accuracy: 0.9789\n",
      "Epoch 12/15\n",
      "60/60 [==============================] - 57s 954ms/step - loss: 0.8662 - code_design_output_loss: 0.0828 - code_style_output_loss: 0.0419 - code_naming_output_loss: 0.0535 - code_logic_output_loss: 0.1026 - code_io_output_loss: 0.0880 - code_data_output_loss: 0.0778 - code_doc_output_loss: 0.0903 - code_api_output_loss: 0.0753 - compatibility_output_loss: 0.0718 - rule_def_output_loss: 0.0659 - config_commit_patch_review_output_loss: 0.0553 - config_building_installing_output_loss: 0.0609 - code_design_output_accuracy: 0.9775 - code_style_output_accuracy: 0.9937 - code_naming_output_accuracy: 0.9845 - code_logic_output_accuracy: 0.9704 - code_io_output_accuracy: 0.9725 - code_data_output_accuracy: 0.9831 - code_doc_output_accuracy: 0.9683 - code_api_output_accuracy: 0.9796 - compatibility_output_accuracy: 0.9761 - rule_def_output_accuracy: 0.9782 - config_commit_patch_review_output_accuracy: 0.9873 - config_building_installing_output_accuracy: 0.9803\n",
      "Epoch 13/15\n",
      "60/60 [==============================] - 57s 953ms/step - loss: 0.7761 - code_design_output_loss: 0.0756 - code_style_output_loss: 0.0382 - code_naming_output_loss: 0.0459 - code_logic_output_loss: 0.0833 - code_io_output_loss: 0.0772 - code_data_output_loss: 0.0691 - code_doc_output_loss: 0.0792 - code_api_output_loss: 0.0790 - compatibility_output_loss: 0.0621 - rule_def_output_loss: 0.0587 - config_commit_patch_review_output_loss: 0.0589 - config_building_installing_output_loss: 0.0489 - code_design_output_accuracy: 0.9803 - code_style_output_accuracy: 0.9958 - code_naming_output_accuracy: 0.9866 - code_logic_output_accuracy: 0.9817 - code_io_output_accuracy: 0.9725 - code_data_output_accuracy: 0.9831 - code_doc_output_accuracy: 0.9768 - code_api_output_accuracy: 0.9761 - compatibility_output_accuracy: 0.9838 - rule_def_output_accuracy: 0.9866 - config_commit_patch_review_output_accuracy: 0.9859 - config_building_installing_output_accuracy: 0.9866\n",
      "Epoch 14/15\n",
      "60/60 [==============================] - 57s 957ms/step - loss: 0.6150 - code_design_output_loss: 0.0651 - code_style_output_loss: 0.0320 - code_naming_output_loss: 0.0395 - code_logic_output_loss: 0.0583 - code_io_output_loss: 0.0657 - code_data_output_loss: 0.0567 - code_doc_output_loss: 0.0612 - code_api_output_loss: 0.0538 - compatibility_output_loss: 0.0478 - rule_def_output_loss: 0.0514 - config_commit_patch_review_output_loss: 0.0431 - config_building_installing_output_loss: 0.0404 - code_design_output_accuracy: 0.9817 - code_style_output_accuracy: 0.9965 - code_naming_output_accuracy: 0.9894 - code_logic_output_accuracy: 0.9901 - code_io_output_accuracy: 0.9775 - code_data_output_accuracy: 0.9915 - code_doc_output_accuracy: 0.9803 - code_api_output_accuracy: 0.9873 - compatibility_output_accuracy: 0.9873 - rule_def_output_accuracy: 0.9859 - config_commit_patch_review_output_accuracy: 0.9930 - config_building_installing_output_accuracy: 0.9908\n",
      "Epoch 15/15\n"
     ]
    },
    {
     "name": "stdout",
     "output_type": "stream",
     "text": [
      "60/60 [==============================] - 57s 958ms/step - loss: 0.5329 - code_design_output_loss: 0.0538 - code_style_output_loss: 0.0318 - code_naming_output_loss: 0.0315 - code_logic_output_loss: 0.0592 - code_io_output_loss: 0.0567 - code_data_output_loss: 0.0480 - code_doc_output_loss: 0.0476 - code_api_output_loss: 0.0408 - compatibility_output_loss: 0.0399 - rule_def_output_loss: 0.0460 - config_commit_patch_review_output_loss: 0.0384 - config_building_installing_output_loss: 0.0392 - code_design_output_accuracy: 0.9859 - code_style_output_accuracy: 0.9965 - code_naming_output_accuracy: 0.9944 - code_logic_output_accuracy: 0.9901 - code_io_output_accuracy: 0.9824 - code_data_output_accuracy: 0.9944 - code_doc_output_accuracy: 0.9873 - code_api_output_accuracy: 0.9965 - compatibility_output_accuracy: 0.9951 - rule_def_output_accuracy: 0.9873 - config_commit_patch_review_output_accuracy: 0.9923 - config_building_installing_output_accuracy: 0.9908\n"
     ]
    }
   ],
   "source": [
    "np.random.seed(random_seed)\n",
    "set_random_seed(random_seed)\n",
    "\n",
    "batch_size = 24\n",
    "epochs = 15\n",
    "lr=2e-5\n",
    "layers_num=12\n",
    "\n",
    "model = get_model(seq_len, subject_columns, layers_num, config_path, checkpoint_path, lr)\n",
    "\n",
    "history = model.fit(\n",
    "                x_train,\n",
    "                y_all_train,\n",
    "                epochs=epochs,\n",
    "                batch_size=batch_size,\n",
    "                verbose=1,\n",
    "                shuffle=True,\n",
    "            )\n"
   ]
  },
  {
   "cell_type": "code",
   "execution_count": 20,
   "metadata": {
    "ExecuteTime": {
     "end_time": "2021-06-29T10:35:32.019263Z",
     "start_time": "2021-06-29T10:35:22.014081Z"
    }
   },
   "outputs": [
    {
     "name": "stdout",
     "output_type": "stream",
     "text": [
      "Predicting...\n",
      "WARNING:tensorflow:AutoGraph could not transform <function Model.make_predict_function.<locals>.predict_function at 0x00000264429E9B70> and will run it as-is.\n",
      "Please report this to the TensorFlow team. When filing the bug, set the verbosity to 10 (on Linux, `export AUTOGRAPH_VERBOSITY=10`) and attach the full output.\n",
      "Cause: 'arguments' object has no attribute 'posonlyargs'\n",
      "To silence this warning, decorate the function with @tf.autograph.experimental.do_not_convert\n",
      "WARNING: AutoGraph could not transform <function Model.make_predict_function.<locals>.predict_function at 0x00000264429E9B70> and will run it as-is.\n",
      "Please report this to the TensorFlow team. When filing the bug, set the verbosity to 10 (on Linux, `export AUTOGRAPH_VERBOSITY=10`) and attach the full output.\n",
      "Cause: 'arguments' object has no attribute 'posonlyargs'\n",
      "To silence this warning, decorate the function with @tf.autograph.experimental.do_not_convert\n"
     ]
    }
   ],
   "source": [
    "print(\"Predicting...\")\n",
    "y_pred_subject = model.predict(x_test) \n",
    "\n",
    "y_pred_subject = np.array(y_pred_subject).reshape(len(y_pred_subject),len(y_pred_subject[0])).transpose()\n",
    "subject_all_preds = []\n",
    "for preds in y_pred_subject:\n",
    "    subject_all_preds.append([1 if x > 0.5 else 0 for x in preds]) \n",
    "subject_preds_df = pd.DataFrame(subject_all_preds, columns=subject_columns)\n"
   ]
  },
  {
   "cell_type": "code",
   "execution_count": 21,
   "metadata": {
    "ExecuteTime": {
     "end_time": "2021-06-29T10:35:34.279241Z",
     "start_time": "2021-06-29T10:35:32.242249Z"
    }
   },
   "outputs": [
    {
     "name": "stdout",
     "output_type": "stream",
     "text": [
      "Subject code_design AUC = 0.5\n",
      "Subject code_design Accuracy = 0.92\n",
      "Subject code_design Precision (macro) = 0.46\n",
      "Subject code_design Recall (macro) = 0.5\n",
      "Subject code_design F1-score (macro) = 0.48\n",
      "Subject code_design Precision (micro) = 0.92\n",
      "Subject code_design Recall (micro) = 0.92\n",
      "Subject code_design F1-score (micro) = 0.92\n",
      "Subject code_design Precision (binary) = 0.0\n",
      "Subject code_design Recall (binary) = 0.0\n",
      "Subject code_design F1-score (binary) = 0.0\n",
      "Subject code_design MCC = 0.0\n",
      "Subject code_style AUC = 0.76\n",
      "Subject code_style Accuracy = 0.94\n",
      "Subject code_style Precision (macro) = 0.85\n",
      "Subject code_style Recall (macro) = 0.76\n",
      "Subject code_style F1-score (macro) = 0.79\n",
      "Subject code_style Precision (micro) = 0.94\n",
      "Subject code_style Recall (micro) = 0.94\n",
      "Subject code_style F1-score (micro) = 0.94\n",
      "Subject code_style Precision (binary) = 0.74\n",
      "Subject code_style Recall (binary) = 0.53\n",
      "Subject code_style F1-score (binary) = 0.62\n",
      "Subject code_style MCC = 0.6\n",
      "Subject code_naming AUC = 0.67\n",
      "Subject code_naming Accuracy = 0.97\n",
      "Subject code_naming Precision (macro) = 0.86\n",
      "Subject code_naming Recall (macro) = 0.67\n",
      "Subject code_naming F1-score (macro) = 0.73\n",
      "Subject code_naming Precision (micro) = 0.97\n",
      "Subject code_naming Recall (micro) = 0.97\n",
      "Subject code_naming F1-score (micro) = 0.97\n",
      "Subject code_naming Precision (binary) = 0.74\n",
      "Subject code_naming Recall (binary) = 0.35\n",
      "Subject code_naming F1-score (binary) = 0.47\n",
      "Subject code_naming MCC = 0.49\n",
      "Subject code_logic AUC = 0.71\n",
      "Subject code_logic Accuracy = 0.77\n",
      "Subject code_logic Precision (macro) = 0.79\n",
      "Subject code_logic Recall (macro) = 0.71\n",
      "Subject code_logic F1-score (macro) = 0.72\n",
      "Subject code_logic Precision (micro) = 0.77\n",
      "Subject code_logic Recall (micro) = 0.77\n",
      "Subject code_logic F1-score (micro) = 0.77\n",
      "Subject code_logic Precision (binary) = 0.84\n",
      "Subject code_logic Recall (binary) = 0.47\n",
      "Subject code_logic F1-score (binary) = 0.6\n",
      "Subject code_logic MCC = 0.49\n",
      "Subject code_io AUC = 0.5\n",
      "Subject code_io Accuracy = 0.99\n",
      "Subject code_io Precision (macro) = 0.49\n",
      "Subject code_io Recall (macro) = 0.5\n",
      "Subject code_io F1-score (macro) = 0.5\n",
      "Subject code_io Precision (micro) = 0.99\n",
      "Subject code_io Recall (micro) = 0.99\n",
      "Subject code_io F1-score (micro) = 0.99\n",
      "Subject code_io Precision (binary) = 0.0\n",
      "Subject code_io Recall (binary) = 0.0\n",
      "Subject code_io F1-score (binary) = 0.0\n",
      "Subject code_io MCC = 0.0\n",
      "Subject code_data AUC = 0.75\n",
      "Subject code_data Accuracy = 0.80\n",
      "Subject code_data Precision (macro) = 0.74\n",
      "Subject code_data Recall (macro) = 0.75\n",
      "Subject code_data F1-score (macro) = 0.75\n",
      "Subject code_data Precision (micro) = 0.8\n",
      "Subject code_data Recall (micro) = 0.8\n",
      "Subject code_data F1-score (micro) = 0.8\n",
      "Subject code_data Precision (binary) = 0.61\n",
      "Subject code_data Recall (binary) = 0.66\n",
      "Subject code_data F1-score (binary) = 0.63\n",
      "Subject code_data MCC = 0.49\n"
     ]
    },
    {
     "name": "stderr",
     "output_type": "stream",
     "text": [
      "C:\\Users\\user\\Anaconda3\\envs\\ml2\\lib\\site-packages\\sklearn\\metrics\\_classification.py:1272: UndefinedMetricWarning: Precision is ill-defined and being set to 0.0 in labels with no predicted samples. Use `zero_division` parameter to control this behavior.\n",
      "  _warn_prf(average, modifier, msg_start, len(result))\n",
      "C:\\Users\\user\\Anaconda3\\envs\\ml2\\lib\\site-packages\\sklearn\\metrics\\_classification.py:1272: UndefinedMetricWarning: Precision is ill-defined and being set to 0.0 due to no predicted samples. Use `zero_division` parameter to control this behavior.\n",
      "  _warn_prf(average, modifier, msg_start, len(result))\n",
      "C:\\Users\\user\\Anaconda3\\envs\\ml2\\lib\\site-packages\\sklearn\\metrics\\_classification.py:900: RuntimeWarning: invalid value encountered in double_scalars\n",
      "  mcc = cov_ytyp / np.sqrt(cov_ytyt * cov_ypyp)\n",
      "C:\\Users\\user\\Anaconda3\\envs\\ml2\\lib\\site-packages\\sklearn\\metrics\\_classification.py:1272: UndefinedMetricWarning: Precision is ill-defined and being set to 0.0 in labels with no predicted samples. Use `zero_division` parameter to control this behavior.\n",
      "  _warn_prf(average, modifier, msg_start, len(result))\n",
      "C:\\Users\\user\\Anaconda3\\envs\\ml2\\lib\\site-packages\\sklearn\\metrics\\_classification.py:1272: UndefinedMetricWarning: Precision is ill-defined and being set to 0.0 due to no predicted samples. Use `zero_division` parameter to control this behavior.\n",
      "  _warn_prf(average, modifier, msg_start, len(result))\n",
      "C:\\Users\\user\\Anaconda3\\envs\\ml2\\lib\\site-packages\\sklearn\\metrics\\_classification.py:900: RuntimeWarning: invalid value encountered in double_scalars\n",
      "  mcc = cov_ytyp / np.sqrt(cov_ytyt * cov_ypyp)\n"
     ]
    },
    {
     "name": "stdout",
     "output_type": "stream",
     "text": [
      "Subject code_doc AUC = 0.5\n",
      "Subject code_doc Accuracy = 0.94\n",
      "Subject code_doc Precision (macro) = 0.47\n",
      "Subject code_doc Recall (macro) = 0.5\n",
      "Subject code_doc F1-score (macro) = 0.48\n",
      "Subject code_doc Precision (micro) = 0.94\n",
      "Subject code_doc Recall (micro) = 0.94\n",
      "Subject code_doc F1-score (micro) = 0.94\n",
      "Subject code_doc Precision (binary) = 0.0\n",
      "Subject code_doc Recall (binary) = 0.0\n",
      "Subject code_doc F1-score (binary) = 0.0\n",
      "Subject code_doc MCC = -0.0071\n",
      "Subject code_api AUC = 0.68\n",
      "Subject code_api Accuracy = 0.93\n",
      "Subject code_api Precision (macro) = 0.84\n",
      "Subject code_api Recall (macro) = 0.68\n",
      "Subject code_api F1-score (macro) = 0.73\n",
      "Subject code_api Precision (micro) = 0.93\n",
      "Subject code_api Recall (micro) = 0.93\n",
      "Subject code_api F1-score (micro) = 0.93\n",
      "Subject code_api Precision (binary) = 0.74\n",
      "Subject code_api Recall (binary) = 0.37\n",
      "Subject code_api F1-score (binary) = 0.49\n",
      "Subject code_api MCC = 0.49\n",
      "Subject compatibility AUC = 0.68\n",
      "Subject compatibility Accuracy = 0.98\n",
      "Subject compatibility Precision (macro) = 0.71\n",
      "Subject compatibility Recall (macro) = 0.68\n",
      "Subject compatibility F1-score (macro) = 0.7\n",
      "Subject compatibility Precision (micro) = 0.98\n",
      "Subject compatibility Recall (micro) = 0.98\n",
      "Subject compatibility F1-score (micro) = 0.98\n",
      "Subject compatibility Precision (binary) = 0.44\n",
      "Subject compatibility Recall (binary) = 0.37\n",
      "Subject compatibility F1-score (binary) = 0.4\n",
      "Subject compatibility MCC = 0.39\n",
      "Subject rule_def AUC = 0.55\n",
      "Subject rule_def Accuracy = 0.97\n",
      "Subject rule_def Precision (macro) = 0.82\n",
      "Subject rule_def Recall (macro) = 0.55\n",
      "Subject rule_def F1-score (macro) = 0.57\n",
      "Subject rule_def Precision (micro) = 0.97\n",
      "Subject rule_def Recall (micro) = 0.97\n",
      "Subject rule_def F1-score (micro) = 0.97\n",
      "Subject rule_def Precision (binary) = 0.67\n",
      "Subject rule_def Recall (binary) = 0.093\n",
      "Subject rule_def F1-score (binary) = 0.16\n",
      "Subject rule_def MCC = 0.24\n",
      "Subject config_commit_patch_review AUC = 0.69\n",
      "Subject config_commit_patch_review Accuracy = 0.97\n",
      "Subject config_commit_patch_review Precision (macro) = 0.79\n",
      "Subject config_commit_patch_review Recall (macro) = 0.69\n",
      "Subject config_commit_patch_review F1-score (macro) = 0.73\n",
      "Subject config_commit_patch_review Precision (micro) = 0.97\n",
      "Subject config_commit_patch_review Recall (micro) = 0.97\n",
      "Subject config_commit_patch_review F1-score (micro) = 0.97\n",
      "Subject config_commit_patch_review Precision (binary) = 0.61\n",
      "Subject config_commit_patch_review Recall (binary) = 0.38\n",
      "Subject config_commit_patch_review F1-score (binary) = 0.47\n",
      "Subject config_commit_patch_review MCC = 0.47\n",
      "Subject config_building_installing AUC = 0.53\n",
      "Subject config_building_installing Accuracy = 0.96\n",
      "Subject config_building_installing Precision (macro) = 0.98\n",
      "Subject config_building_installing Recall (macro) = 0.53\n",
      "Subject config_building_installing F1-score (macro) = 0.54\n",
      "Subject config_building_installing Precision (micro) = 0.96\n",
      "Subject config_building_installing Recall (micro) = 0.96\n",
      "Subject config_building_installing F1-score (micro) = 0.96\n",
      "Subject config_building_installing Precision (binary) = 1.0\n",
      "Subject config_building_installing Recall (binary) = 0.051\n",
      "Subject config_building_installing F1-score (binary) = 0.097\n",
      "Subject config_building_installing MCC = 0.22\n",
      "Preparing confusion matrix for the comment subjects.\n"
     ]
    },
    {
     "name": "stderr",
     "output_type": "stream",
     "text": [
      "C:\\Users\\user\\Anaconda3\\envs\\ml2\\lib\\site-packages\\matplotlib\\figure.py:2299: UserWarning: This figure includes Axes that are not compatible with tight_layout, so results might be incorrect.\n",
      "  warnings.warn(\"This figure includes Axes that are not compatible \"\n"
     ]
    },
    {
     "name": "stdout",
     "output_type": "stream",
     "text": [
      "Confusion matrix for the comment subject saved to ./output/cross-onap-subject_cm.pdf.\n"
     ]
    }
   ],
   "source": [
    "y_true_df = pd.DataFrame(y_all_test)\n",
    "y_true_df.columns = [str(col).replace(\"_output\", \"\") for col in y_true_df.columns]\n",
    "\n",
    "results = dict()\n",
    "\n",
    "for subject in subject_columns:\n",
    "    subject_acc = accuracy_score(y_true_df[subject], subject_preds_df[subject])\n",
    "    subject_f1 = f1_score(y_true_df[subject], subject_preds_df[subject], average=\"macro\")\n",
    "    subject_precision = precision_score(y_true_df[subject], subject_preds_df[subject], average=\"macro\")\n",
    "    subject_recall = recall_score(y_true_df[subject], subject_preds_df[subject], average=\"macro\")\n",
    "    subject_f1_micro = f1_score(y_true_df[subject], subject_preds_df[subject], average=\"micro\")\n",
    "    subject_precision_micro = precision_score(y_true_df[subject], subject_preds_df[subject], average=\"micro\")\n",
    "    subject_recall_micro = recall_score(y_true_df[subject], subject_preds_df[subject], average=\"micro\")\n",
    "    subject_f1_binary = f1_score(y_true_df[subject], subject_preds_df[subject], average=\"binary\")\n",
    "    subject_precision_binary = precision_score(y_true_df[subject], subject_preds_df[subject], average=\"binary\")\n",
    "    subject_recall_binary = recall_score(y_true_df[subject], subject_preds_df[subject], average=\"binary\")\n",
    "    subject_mcc = mcc_score(y_true_df[subject], subject_preds_df[subject])    \n",
    "    try:\n",
    "        subject_roc_auc_score = roc_auc_score(y_true_df[subject], subject_preds_df[subject])\n",
    "        print(f\"Subject {subject} AUC = {subject_roc_auc_score:.2}\")\n",
    "    except:\n",
    "        subject_roc_auc_score = None\n",
    "    \n",
    "    print(f\"Subject {subject} Accuracy = {subject_acc:.2f}\")\n",
    "    print(f\"Subject {subject} Precision (macro) = {subject_precision:.2}\")\n",
    "    print(f\"Subject {subject} Recall (macro) = {subject_recall:.2}\")\n",
    "    print(f\"Subject {subject} F1-score (macro) = {subject_f1:.2}\")\n",
    "    print(f\"Subject {subject} Precision (micro) = {subject_precision_micro:.2}\")\n",
    "    print(f\"Subject {subject} Recall (micro) = {subject_recall_micro:.2}\")\n",
    "    print(f\"Subject {subject} F1-score (micro) = {subject_f1_micro:.2}\")\n",
    "    print(f\"Subject {subject} Precision (binary) = {subject_precision_binary:.2}\")\n",
    "    print(f\"Subject {subject} Recall (binary) = {subject_recall_binary:.2}\")\n",
    "    print(f\"Subject {subject} F1-score (binary) = {subject_f1_binary:.2}\")\n",
    "    print(f\"Subject {subject} MCC = {subject_mcc:.2}\")\n",
    "\n",
    "\n",
    "    results[subject] = dict()\n",
    "    results[subject]['acc'] = subject_acc\n",
    "    results[subject]['rec_macro']= subject_recall\n",
    "    results[subject]['prec_macro'] = subject_precision\n",
    "    results[subject]['fscore_macro'] = subject_f1\n",
    "    results[subject]['rec_micro']= subject_recall_micro\n",
    "    results[subject]['prec_micro'] = subject_precision_micro\n",
    "    results[subject]['fscore_micro'] = subject_f1_micro\n",
    "    results[subject]['rec_binary']= subject_recall_binary\n",
    "    results[subject]['prec_binary'] = subject_precision_binary\n",
    "    results[subject]['fscore_binary'] = subject_f1_binary\n",
    "    results[subject]['mcc'] = subject_mcc\n",
    "    results[subject]['auc'] = subject_roc_auc_score\n",
    "    \n",
    "subject_cm_path=f\"./output/cross-onap-subject_cm.pdf\"\n",
    "print(\"Preparing confusion matrix for the comment subjects.\")\n",
    "\n",
    "figsize=(10,20)\n",
    "cmap='Greens'\n",
    "\n",
    "cf_matrix_all_subject = multilabel_confusion_matrix(y_true_df[subject_columns].values,\n",
    "                                                    subject_preds_df[subject_columns].values, samplewise=False)\n",
    "\n",
    "fig = plt.figure(figsize=figsize)\n",
    "cols = math.ceil(float(len(subject_columns)) / 2.0)\n",
    "#print(cols)\n",
    "gs = gridspec.GridSpec(cols, 2, height_ratios=[1]*cols)\n",
    "gs.update(hspace=0.4, wspace=0.5)\n",
    "\n",
    "for i, cf in enumerate(cf_matrix_all_subject):\n",
    "\n",
    "    row = i // 2\n",
    "    col = i % 2\n",
    "    #print(row, col)\n",
    "    ax = plt.subplot(gs[row, col])\n",
    "\n",
    "    cmn = cf.astype('float') / cf.sum(axis=1)[:, np.newaxis]\n",
    "    perc_labs = [\"{0:.1%}\".format(value) for value in cmn.flatten()]\n",
    "\n",
    "    group_counts = [\"{0:0.0f}\\n\".format(value) for value in cf.flatten()]\n",
    "\n",
    "    box_labels = [f\"{v1}{v2}\".strip() for v1, v2 in zip(group_counts,perc_labs)]\n",
    "    box_labels = np.asarray(box_labels).reshape(cf.shape[0],cf.shape[1])\n",
    "\n",
    "    sns.heatmap(cmn, \n",
    "                annot=box_labels, \n",
    "                fmt='', \n",
    "                annot_kws={\"fontsize\":12},\n",
    "                xticklabels=(\"False\", \"True\"), \n",
    "                yticklabels=(\"False\", \"True\"),\n",
    "            cmap=cmap,\n",
    "            linecolor='lightgray', linewidths=0.5,\n",
    "            square=True,\n",
    "            cbar=False,\n",
    "            vmin=0, vmax=1)\n",
    "    ax.set_title(subject_columns[i])\n",
    "    plt.ylabel('True label')\n",
    "    plt.xlabel('Predicted label')\n",
    "\n",
    "plt.tight_layout()\n",
    "plt.savefig(subject_cm_path)\n",
    "print(f\"Confusion matrix for the comment subject saved to {subject_cm_path}.\")\n",
    "plt.close()"
   ]
  },
  {
   "cell_type": "code",
   "execution_count": 22,
   "metadata": {
    "ExecuteTime": {
     "end_time": "2021-06-29T10:35:34.592244Z",
     "start_time": "2021-06-29T10:35:34.563243Z"
    }
   },
   "outputs": [],
   "source": [
    "with open('./output/res-cross-onap.json', 'w') as fp:\n",
    "    json.dump(results, fp, indent=4)"
   ]
  },
  {
   "cell_type": "code",
   "execution_count": 23,
   "metadata": {
    "ExecuteTime": {
     "end_time": "2021-06-29T10:35:35.497239Z",
     "start_time": "2021-06-29T10:35:34.891237Z"
    }
   },
   "outputs": [],
   "source": [
    "results_df = pd.DataFrame(results)\n",
    "results_df.to_excel('./output/res-cross-onap.xlsx')"
   ]
  },
  {
   "cell_type": "code",
   "execution_count": 24,
   "metadata": {
    "ExecuteTime": {
     "end_time": "2021-06-29T10:35:35.916949Z",
     "start_time": "2021-06-29T10:35:35.813243Z"
    }
   },
   "outputs": [],
   "source": [
    "results_df = results_df\n",
    "reviews_df = reviews_test_df\n",
    "\n",
    "counts_df = reviews_df[subject_columns].sum()\n",
    "counts_df.name = \"n\"\n",
    "\n",
    "perc_counts_df = reviews_df[subject_columns].sum() / reviews_df.shape[0]\n",
    "perc_counts_df.name = \"perc_count\"\n",
    "\n",
    "summary_dfs = [counts_df, perc_counts_df]\n",
    "for metric in results_df.index.unique().tolist():\n",
    "    metric_df = results_df[results_df.index == metric].mean()\n",
    "    metric_df.name = metric\n",
    "    summary_dfs.append(metric_df)\n",
    "    \n",
    "summary_df = pd.concat(summary_dfs, axis=1)\n",
    "summary_df.to_excel('./output/summary-cross-onap.xlsx')"
   ]
  },
  {
   "cell_type": "code",
   "execution_count": null,
   "metadata": {},
   "outputs": [],
   "source": []
  }
 ],
 "metadata": {
  "kernelspec": {
   "display_name": "python-ml2",
   "language": "python",
   "name": "python-ml2"
  },
  "language_info": {
   "codemirror_mode": {
    "name": "ipython",
    "version": 3
   },
   "file_extension": ".py",
   "mimetype": "text/x-python",
   "name": "python",
   "nbconvert_exporter": "python",
   "pygments_lexer": "ipython3",
   "version": "3.6.10"
  },
  "toc": {
   "base_numbering": 1,
   "nav_menu": {},
   "number_sections": true,
   "sideBar": true,
   "skip_h1_title": true,
   "title_cell": "Table of Contents",
   "title_sidebar": "Contents",
   "toc_cell": false,
   "toc_position": {},
   "toc_section_display": true,
   "toc_window_display": false
  },
  "varInspector": {
   "cols": {
    "lenName": 16,
    "lenType": 16,
    "lenVar": 40
   },
   "kernels_config": {
    "python": {
     "delete_cmd_postfix": "",
     "delete_cmd_prefix": "del ",
     "library": "var_list.py",
     "varRefreshCmd": "print(var_dic_list())"
    },
    "r": {
     "delete_cmd_postfix": ") ",
     "delete_cmd_prefix": "rm(",
     "library": "var_list.r",
     "varRefreshCmd": "cat(var_dic_list()) "
    }
   },
   "types_to_exclude": [
    "module",
    "function",
    "builtin_function_or_method",
    "instance",
    "_Feature"
   ],
   "window_display": false
  }
 },
 "nbformat": 4,
 "nbformat_minor": 4
}
