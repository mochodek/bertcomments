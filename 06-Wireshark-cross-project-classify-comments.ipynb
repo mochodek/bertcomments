{
 "cells": [
  {
   "cell_type": "markdown",
   "metadata": {},
   "source": [
    "# Wireshark cross-project classify comments"
   ]
  },
  {
   "cell_type": "code",
   "execution_count": 2,
   "metadata": {
    "ExecuteTime": {
     "end_time": "2021-06-29T09:45:46.068389Z",
     "start_time": "2021-06-29T09:45:46.046388Z"
    }
   },
   "outputs": [
    {
     "data": {
      "text/plain": [
       "('C:\\\\Users\\\\user\\\\Research\\\\acora-pure',\n",
       " 'E:\\\\GoogleDrive\\\\acora-data',\n",
       " 'D:\\\\Research\\\\Datasets\\\\BERT')"
      ]
     },
     "execution_count": 2,
     "metadata": {},
     "output_type": "execute_result"
    }
   ],
   "source": [
    "# Get paths set either from environment variables or if not set use some default values\n",
    "import os\n",
    "\n",
    "if 'ACORA_HOME_PATH' in os.environ:\n",
    "    acora_home_path = os.environ['ACORA_HOME_PATH']\n",
    "else:\n",
    "    acora_home_path = \"../../acora\"\n",
    "\n",
    "if 'ACORA_DATA_PATH' in os.environ:\n",
    "    data_path = os.environ['ACORA_DATA_PATH']\n",
    "else:\n",
    "    data_path = \"./data\"\n",
    "    \n",
    "if 'BERT_PRETRAIN_MODELS_PATH' in os.environ:\n",
    "    berts_pretrain_path = os.environ['BERT_PRETRAIN_MODELS_PATH']\n",
    "else:\n",
    "    berts_pretrain_path = \"../bert\"\n",
    "\n",
    "acora_home_path, data_path, berts_pretrain_path"
   ]
  },
  {
   "cell_type": "code",
   "execution_count": 3,
   "metadata": {
    "ExecuteTime": {
     "end_time": "2021-06-29T09:45:46.875547Z",
     "start_time": "2021-06-29T09:45:46.868542Z"
    }
   },
   "outputs": [],
   "source": [
    "random_seed = 102329"
   ]
  },
  {
   "cell_type": "markdown",
   "metadata": {},
   "source": [
    "## Imports"
   ]
  },
  {
   "cell_type": "code",
   "execution_count": 4,
   "metadata": {
    "ExecuteTime": {
     "end_time": "2021-06-29T09:45:53.153028Z",
     "start_time": "2021-06-29T09:45:48.891969Z"
    }
   },
   "outputs": [],
   "source": [
    "import logging\n",
    "import os\n",
    "os.environ['TF_CPP_MIN_LOG_LEVEL'] = '3'  # or any {'0', '1', '2'}\n",
    "logging.getLogger(\"tensorflow\").setLevel(logging.ERROR)\n",
    "import json\n",
    "\n",
    "import pandas as pd\n",
    "import numpy as np\n",
    "\n",
    "import json\n",
    "\n",
    "from scipy import stats\n",
    "\n",
    "from sklearn.model_selection import train_test_split\n",
    "\n",
    "from collections import Counter\n",
    "\n",
    "from sklearn.model_selection import StratifiedKFold, KFold\n",
    "from sklearn.metrics import accuracy_score\n",
    "from sklearn.metrics import f1_score\n",
    "from sklearn.metrics import recall_score\n",
    "from sklearn.metrics import precision_score\n",
    "from sklearn.metrics import matthews_corrcoef as mcc_score\n",
    "from sklearn.metrics import roc_auc_score\n",
    "from sklearn.metrics import confusion_matrix, multilabel_confusion_matrix\n",
    "import matplotlib.pyplot as plt\n",
    "import matplotlib.gridspec as gridspec\n",
    "import seaborn as sns\n",
    "import math\n",
    "\n",
    "\n",
    "import warnings  \n",
    "with warnings.catch_warnings():  \n",
    "    warnings.filterwarnings(\"ignore\",category=FutureWarning)\n",
    "\n",
    "    import tensorflow as tf\n",
    "\n",
    "    if tf.__version__.startswith(\"1.\"):\n",
    "        os.environ['TF_KERAS'] = '0'\n",
    "        from tensorflow import ConfigProto, Session, set_random_seed\n",
    "        import keras\n",
    "        from keras.backend.tensorflow_backend import set_session\n",
    "        from keras.backend.tensorflow_backend import clear_session\n",
    "        from keras.backend.tensorflow_backend import get_session\n",
    "    else:\n",
    "        os.environ['TF_KERAS'] = '1'\n",
    "        from tensorflow.compat.v1 import ConfigProto, Session, set_random_seed\n",
    "        import tensorflow.compat.v1.keras as keras\n",
    "        tf.get_logger().setLevel('INFO')\n",
    "         \n",
    "    from tensorflow.python.client import device_lib\n",
    "\n",
    "\n",
    "    from keras_bert import Tokenizer, load_trained_model_from_checkpoint\n",
    "    from keras_bert.layers.extract import Extract\n",
    "\n",
    "    from keras_radam import RAdam\n",
    "\n",
    "from acora.vocab import BERTVocab\n",
    "from acora.comments import default_subject_columns, \\\n",
    "    load_comments_files, CommentPurposeTransformer, CommentSubjectTransformer, \\\n",
    "    plot_purpose_confusion_matrix, plot_subjects_confusion_matrix, \\\n",
    "    report_comment_predictions_accuracy, default_purpose_labels, save_comment_predictions_accuracy"
   ]
  },
  {
   "cell_type": "markdown",
   "metadata": {},
   "source": [
    "# Model"
   ]
  },
  {
   "cell_type": "code",
   "execution_count": 5,
   "metadata": {
    "ExecuteTime": {
     "end_time": "2021-06-29T09:45:53.199034Z",
     "start_time": "2021-06-29T09:45:53.189030Z"
    }
   },
   "outputs": [],
   "source": [
    "#bert_name = 'uncased_L-8_H-512_A-8'\n",
    "bert_name = 'multi_cased_L-12_H-768_A-12'\n",
    "\n",
    "config_path = os.path.join(berts_pretrain_path, bert_name, 'bert_config.json')\n",
    "checkpoint_path = os.path.join(berts_pretrain_path, bert_name, 'bert_model.ckpt')\n",
    "vocab_path = os.path.join(berts_pretrain_path, bert_name, 'vocab.txt')\n",
    "with open(config_path, \"r\", encoding='utf', errors='ignore') as json_file:\n",
    "    bert_config = json.load(json_file)"
   ]
  },
  {
   "cell_type": "code",
   "execution_count": 6,
   "metadata": {
    "ExecuteTime": {
     "end_time": "2021-06-29T09:45:53.246126Z",
     "start_time": "2021-06-29T09:45:53.233105Z"
    }
   },
   "outputs": [],
   "source": [
    "not_use_gpu = False\n",
    "seq_len = 128"
   ]
  },
  {
   "cell_type": "code",
   "execution_count": 7,
   "metadata": {
    "ExecuteTime": {
     "end_time": "2021-06-29T09:45:54.043194Z",
     "start_time": "2021-06-29T09:45:53.279187Z"
    }
   },
   "outputs": [
    {
     "name": "stdout",
     "output_type": "stream",
     "text": [
      "/device:CPU:0: , 268435456\n",
      "/device:XLA_CPU:0: device: XLA_CPU device, 17179869184\n",
      "/device:GPU:0: device: 0, name: NVIDIA TITAN Xp COLLECTORS EDITION, pci bus id: 0000:05:00.0, compute capability: 6.1, 10983471872\n",
      "/device:XLA_GPU:0: device: XLA_GPU device, 17179869184\n"
     ]
    }
   ],
   "source": [
    "gpus = [x.name for x in device_lib.list_local_devices() if x.device_type == 'GPU']\n",
    "if not not_use_gpu and len(gpus) == 0:\n",
    "    logger.error(\"You don't have a GPU available on your system, it can affect the performance...\")\n",
    "\n",
    "for gpu_entry in device_lib.list_local_devices():\n",
    "    if hasattr(gpu_entry, 'physical_device_desc'):\n",
    "        print(f\"{gpu_entry.name}: {gpu_entry.physical_device_desc}, {gpu_entry.memory_limit}\")"
   ]
  },
  {
   "cell_type": "code",
   "execution_count": 8,
   "metadata": {
    "ExecuteTime": {
     "end_time": "2021-06-29T09:45:54.105187Z",
     "start_time": "2021-06-29T09:45:54.076187Z"
    }
   },
   "outputs": [],
   "source": [
    "model = None\n",
    "\n",
    "def get_model(seq_len, subject_columns, layer_num, config_path, checkpoint_path, lr=2e-5, \n",
    "              not_use_gpu = not_use_gpu):\n",
    "    \n",
    "    global model\n",
    "\n",
    "    try:\n",
    "        del model \n",
    "    except:\n",
    "        print(\"Unable to delete the model\")\n",
    "    \n",
    "    if tf.__version__.startswith(\"1.\"):\n",
    "        sess = get_session()\n",
    "        clear_session()\n",
    "        sess.close()\n",
    "        gpus = [x.name for x in device_lib.list_local_devices() if x.device_type == 'GPU']\n",
    "        if not not_use_gpu and len(gpus) == 0:\n",
    "            logger.error(\"You don't have a GPU available on your system, it can affect the performance...\")\n",
    "\n",
    "        config = ConfigProto( device_count = {'GPU': 0 if not_use_gpu else len(gpus)})\n",
    "        config.gpu_options.per_process_gpu_memory_fraction = 1\n",
    "        config.gpu_options.visible_device_list = \"0\"\n",
    "        sess = Session(config=config)\n",
    "        keras.backend.set_session(sess)\n",
    "    else:\n",
    "        sess = tf.compat.v1.keras.backend.get_session()\n",
    "        tf.compat.v1.keras.backend.clear_session()\n",
    "        sess.close()\n",
    "        gpus = [x.name for x in device_lib.list_local_devices() if x.device_type == 'GPU']\n",
    "        if not not_use_gpu and len(gpus) == 0:\n",
    "            logger.error(\"You don't have a GPU available on your system, it can affect the performance...\")\n",
    "\n",
    "        config = ConfigProto( device_count = {'GPU': 0 if not_use_gpu else len(gpus)})\n",
    "        config.gpu_options.per_process_gpu_memory_fraction = 1\n",
    "        config.gpu_options.visible_device_list = \"0\"\n",
    "        sess = Session(config=config)\n",
    "        tf.compat.v1.keras.backend.set_session(sess)\n",
    "    \n",
    "    \n",
    "    model = load_trained_model_from_checkpoint(\n",
    "        config_path,\n",
    "        checkpoint_path,\n",
    "        training=True,\n",
    "        trainable=True,\n",
    "        seq_len=seq_len\n",
    "    )\n",
    "    \n",
    "    inputs = model.inputs[:2]\n",
    "    #dense = model.get_layer(f'Encoder-{layer_num}-FeedForward-Norm').output\n",
    "    #dense = Extract(index=0, name=\"Extract\")(dense)\n",
    "    dense = model.get_layer('NSP-Dense').output\n",
    "    dense = keras.layers.Dropout(0.1)(dense)\n",
    "\n",
    "\n",
    "    losses = dict()\n",
    "    loss_weights = dict()\n",
    "    outputs = []\n",
    "   \n",
    "    for i, subject_class in enumerate(subject_columns):\n",
    "        outputs.append(keras.layers.Dense(units=1, activation='sigmoid', name=f\"{subject_class}_output\")(dense))\n",
    "        losses[f\"{subject_class}_output\"] = \"binary_crossentropy\"\n",
    "        loss_weights[f\"{subject_class}_output\"] = 1.0\n",
    "\n",
    "    model = keras.models.Model(inputs, outputs)\n",
    "    \n",
    "    model.compile(\n",
    "        RAdam(learning_rate=lr,beta_1=0.9, beta_2=0.999,warmup_proportion=0.1),\n",
    "        loss=losses, \n",
    "        loss_weights=loss_weights,\n",
    "        metrics=['accuracy'],\n",
    "    )\n",
    "    \n",
    "    return model\n"
   ]
  },
  {
   "cell_type": "code",
   "execution_count": 9,
   "metadata": {
    "ExecuteTime": {
     "end_time": "2021-06-29T09:45:55.665874Z",
     "start_time": "2021-06-29T09:45:55.500873Z"
    }
   },
   "outputs": [],
   "source": [
    "vocab = BERTVocab.load_from_file(vocab_path)"
   ]
  },
  {
   "cell_type": "code",
   "execution_count": 10,
   "metadata": {
    "ExecuteTime": {
     "end_time": "2021-06-29T09:45:56.267128Z",
     "start_time": "2021-06-29T09:45:56.250188Z"
    }
   },
   "outputs": [],
   "source": [
    "tokenizer = Tokenizer(vocab.token_dict)"
   ]
  },
  {
   "cell_type": "markdown",
   "metadata": {},
   "source": [
    "## Classify Wireshark"
   ]
  },
  {
   "cell_type": "code",
   "execution_count": 11,
   "metadata": {
    "ExecuteTime": {
     "end_time": "2021-06-29T09:46:22.352448Z",
     "start_time": "2021-06-29T09:46:19.805900Z"
    }
   },
   "outputs": [
    {
     "name": "stderr",
     "output_type": "stream",
     "text": [
      "Loading data from E:\\GoogleDrive\\acora-data\\mono\\mono-all.xlsx\n",
      "Loading data from E:\\GoogleDrive\\acora-data\\onap\\onap_comments_all.xlsx\n",
      "Loaded 1,424 rows and 15 cols...\n",
      "Loading data from E:\\GoogleDrive\\acora-data\\wireshark\\wireshark_comments_all.xlsx\n",
      "Loaded 1,248 rows and 15 cols...\n"
     ]
    }
   ],
   "source": [
    "sep = \"$\"\n",
    "\n",
    "line_column = \"line_contents\"\n",
    "message_column = \"message\"\n",
    "purpose_column = \"purpose\"\n",
    "subject_columns = default_subject_columns\n",
    "\n",
    "cols = [line_column, message_column, purpose_column] + subject_columns\n",
    "\n",
    "training_data_paths = [\n",
    "    os.path.join(data_path, \"mono\", \"mono-all.xlsx\"),\n",
    "    os.path.join(data_path, \"onap\", \"onap_comments_all.xlsx\")\n",
    "]\n",
    "\n",
    "testing_data_paths = [\n",
    "    os.path.join(data_path, \"wireshark\", \"wireshark_comments_all.xlsx\"),\n",
    "]\n",
    "reviews_train_df = load_comments_files(training_data_paths, cols, sep)\n",
    "reviews_test_df = load_comments_files(testing_data_paths, cols, sep)\n",
    "\n",
    "duplicates = pd.concat(g for _, g in reviews_train_df.groupby(message_column) if len(g) > 1)\n",
    "unique = pd.concat(g for _, g in reviews_train_df.groupby(message_column) if len(g) == 1)\n",
    "reviews_train_df = pd.concat([duplicates, unique])\n",
    "\n",
    "duplicates = pd.concat(g for _, g in reviews_test_df.groupby(message_column) if len(g) > 1)\n",
    "unique = pd.concat(g for _, g in reviews_test_df.groupby(message_column) if len(g) == 1)\n",
    "reviews_test_df = pd.concat([duplicates, unique])\n"
   ]
  },
  {
   "cell_type": "code",
   "execution_count": 12,
   "metadata": {
    "ExecuteTime": {
     "end_time": "2021-06-29T09:46:23.556023Z",
     "start_time": "2021-06-29T09:46:23.540021Z"
    }
   },
   "outputs": [
    {
     "data": {
      "text/plain": [
       "((1424, 15), (1248, 15))"
      ]
     },
     "execution_count": 12,
     "metadata": {},
     "output_type": "execute_result"
    }
   ],
   "source": [
    "reviews_train_df.shape,  reviews_test_df.shape"
   ]
  },
  {
   "cell_type": "code",
   "execution_count": 14,
   "metadata": {
    "ExecuteTime": {
     "end_time": "2021-06-29T09:46:26.787897Z",
     "start_time": "2021-06-29T09:46:26.327897Z"
    }
   },
   "outputs": [],
   "source": [
    "tokenized_train_messages = [tokenizer.encode(str(text), max_len=seq_len)[0] for text in reviews_train_df[message_column].tolist()] \n",
    "x_train = [np.array(tokenized_train_messages), np.zeros_like(tokenized_train_messages)]"
   ]
  },
  {
   "cell_type": "code",
   "execution_count": 15,
   "metadata": {
    "ExecuteTime": {
     "end_time": "2021-06-29T09:46:27.176601Z",
     "start_time": "2021-06-29T09:46:27.153521Z"
    }
   },
   "outputs": [],
   "source": [
    "subject_transformer_train = CommentSubjectTransformer(reviews_train_df, subject_columns)\n",
    "y_train_subject = subject_transformer_train.encode_one_hot_all_subjects()"
   ]
  },
  {
   "cell_type": "code",
   "execution_count": 16,
   "metadata": {
    "ExecuteTime": {
     "end_time": "2021-06-29T09:46:28.315555Z",
     "start_time": "2021-06-29T09:46:27.877531Z"
    }
   },
   "outputs": [],
   "source": [
    "tokenized_test_messages = [tokenizer.encode(str(text), max_len=seq_len)[0] for text in reviews_test_df[message_column].tolist()] \n",
    "x_test = [np.array(tokenized_test_messages), np.zeros_like(tokenized_test_messages)]\n"
   ]
  },
  {
   "cell_type": "code",
   "execution_count": 17,
   "metadata": {
    "ExecuteTime": {
     "end_time": "2021-06-29T09:46:28.582530Z",
     "start_time": "2021-06-29T09:46:28.565531Z"
    }
   },
   "outputs": [],
   "source": [
    "subject_transformer_test = CommentSubjectTransformer(reviews_test_df, subject_columns)\n",
    "y_test_subject = subject_transformer_test.encode_one_hot_all_subjects()"
   ]
  },
  {
   "cell_type": "code",
   "execution_count": 18,
   "metadata": {
    "ExecuteTime": {
     "end_time": "2021-06-29T09:46:29.142559Z",
     "start_time": "2021-06-29T09:46:29.132557Z"
    }
   },
   "outputs": [],
   "source": [
    "y_all_train = dict()\n",
    "for i, subject_class in enumerate(subject_columns):\n",
    "    y_all_train[f\"{subject_class}_output\"] = subject_transformer_train.encode_binary_single_subject(subject_class).values\n"
   ]
  },
  {
   "cell_type": "code",
   "execution_count": 19,
   "metadata": {
    "ExecuteTime": {
     "end_time": "2021-06-29T09:46:29.701254Z",
     "start_time": "2021-06-29T09:46:29.685257Z"
    }
   },
   "outputs": [],
   "source": [
    "y_all_test = dict()\n",
    "for i, subject_class in enumerate(subject_columns):\n",
    "    y_all_test[f\"{subject_class}_output\"] = subject_transformer_test.encode_binary_single_subject(subject_class).values\n"
   ]
  },
  {
   "cell_type": "code",
   "execution_count": 20,
   "metadata": {
    "ExecuteTime": {
     "end_time": "2021-06-29T09:46:30.258962Z",
     "start_time": "2021-06-29T09:46:30.239962Z"
    }
   },
   "outputs": [
    {
     "name": "stdout",
     "output_type": "stream",
     "text": [
      "Calculated subject weights: {'code_design': array([0.53817082, 7.04950495]), 'code_style': array([0.55065739, 5.4351145 ]), 'code_naming': array([ 0.51970803, 13.18518519]), 'code_logic': array([0.83372365, 1.24912281]), 'code_io': array([ 0.50676157, 37.47368421]), 'code_data': array([0.6953125, 1.78     ]), 'code_doc': array([0.52779837, 9.49333333]), 'code_api': array([0.55322455, 5.19708029]), 'compatibility': array([ 0.50857143, 29.66666667]), 'rule_def': array([ 0.51631617, 15.82222222]), 'config_commit_patch_review': array([ 0.51333814, 19.24324324]), 'config_building_installing': array([ 0.52237711, 11.67213115])}\n"
     ]
    }
   ],
   "source": [
    "subject_class_weights_train = subject_transformer_train.class_weights()\n",
    "print(f\"Calculated subject weights: {subject_class_weights_train}\")\n",
    "\n",
    "class_weights_all_train = dict()\n",
    "for i, subject_class in enumerate(subject_columns):\n",
    "    class_weights_all_train[f\"{subject_class}_output\"] = subject_class_weights_train[subject_class]\n"
   ]
  },
  {
   "cell_type": "code",
   "execution_count": 21,
   "metadata": {
    "ExecuteTime": {
     "end_time": "2021-06-29T10:02:11.447781Z",
     "start_time": "2021-06-29T09:46:31.352548Z"
    }
   },
   "outputs": [
    {
     "name": "stdout",
     "output_type": "stream",
     "text": [
      "WARNING:tensorflow:AutoGraph could not transform <bound method TokenEmbedding.call of <keras_bert.layers.embedding.TokenEmbedding object at 0x0000023CB8A36400>> and will run it as-is.\n",
      "Please report this to the TensorFlow team. When filing the bug, set the verbosity to 10 (on Linux, `export AUTOGRAPH_VERBOSITY=10`) and attach the full output.\n",
      "Cause: 'arguments' object has no attribute 'posonlyargs'\n",
      "To silence this warning, decorate the function with @tf.autograph.experimental.do_not_convert\n",
      "WARNING: AutoGraph could not transform <bound method TokenEmbedding.call of <keras_bert.layers.embedding.TokenEmbedding object at 0x0000023CB8A36400>> and will run it as-is.\n",
      "Please report this to the TensorFlow team. When filing the bug, set the verbosity to 10 (on Linux, `export AUTOGRAPH_VERBOSITY=10`) and attach the full output.\n",
      "Cause: 'arguments' object has no attribute 'posonlyargs'\n",
      "To silence this warning, decorate the function with @tf.autograph.experimental.do_not_convert\n",
      "WARNING:tensorflow:AutoGraph could not transform <bound method PositionEmbedding.call of <keras_pos_embd.pos_embd.PositionEmbedding object at 0x0000023C8B72F550>> and will run it as-is.\n",
      "Please report this to the TensorFlow team. When filing the bug, set the verbosity to 10 (on Linux, `export AUTOGRAPH_VERBOSITY=10`) and attach the full output.\n",
      "Cause: module 'gast' has no attribute 'Constant'\n",
      "To silence this warning, decorate the function with @tf.autograph.experimental.do_not_convert\n",
      "WARNING: AutoGraph could not transform <bound method PositionEmbedding.call of <keras_pos_embd.pos_embd.PositionEmbedding object at 0x0000023C8B72F550>> and will run it as-is.\n",
      "Please report this to the TensorFlow team. When filing the bug, set the verbosity to 10 (on Linux, `export AUTOGRAPH_VERBOSITY=10`) and attach the full output.\n",
      "Cause: module 'gast' has no attribute 'Constant'\n",
      "To silence this warning, decorate the function with @tf.autograph.experimental.do_not_convert\n",
      "WARNING:tensorflow:AutoGraph could not transform <bound method LayerNormalization.call of <keras_layer_normalization.layer_normalization.LayerNormalization object at 0x0000023CB8AB2278>> and will run it as-is.\n",
      "Please report this to the TensorFlow team. When filing the bug, set the verbosity to 10 (on Linux, `export AUTOGRAPH_VERBOSITY=10`) and attach the full output.\n",
      "Cause: 'arguments' object has no attribute 'posonlyargs'\n",
      "To silence this warning, decorate the function with @tf.autograph.experimental.do_not_convert\n",
      "WARNING: AutoGraph could not transform <bound method LayerNormalization.call of <keras_layer_normalization.layer_normalization.LayerNormalization object at 0x0000023CB8AB2278>> and will run it as-is.\n",
      "Please report this to the TensorFlow team. When filing the bug, set the verbosity to 10 (on Linux, `export AUTOGRAPH_VERBOSITY=10`) and attach the full output.\n",
      "Cause: 'arguments' object has no attribute 'posonlyargs'\n",
      "To silence this warning, decorate the function with @tf.autograph.experimental.do_not_convert\n",
      "WARNING:tensorflow:AutoGraph could not transform <bound method MultiHeadAttention.call of <keras_multi_head.multi_head_attention.MultiHeadAttention object at 0x0000023CB8AB2588>> and will run it as-is.\n",
      "Please report this to the TensorFlow team. When filing the bug, set the verbosity to 10 (on Linux, `export AUTOGRAPH_VERBOSITY=10`) and attach the full output.\n",
      "Cause: module 'gast' has no attribute 'Constant'\n",
      "To silence this warning, decorate the function with @tf.autograph.experimental.do_not_convert\n",
      "WARNING: AutoGraph could not transform <bound method MultiHeadAttention.call of <keras_multi_head.multi_head_attention.MultiHeadAttention object at 0x0000023CB8AB2588>> and will run it as-is.\n",
      "Please report this to the TensorFlow team. When filing the bug, set the verbosity to 10 (on Linux, `export AUTOGRAPH_VERBOSITY=10`) and attach the full output.\n",
      "Cause: module 'gast' has no attribute 'Constant'\n",
      "To silence this warning, decorate the function with @tf.autograph.experimental.do_not_convert\n",
      "WARNING:tensorflow:AutoGraph could not transform <bound method ScaledDotProductAttention.call of <keras_self_attention.scaled_dot_attention.ScaledDotProductAttention object at 0x0000023CB924D908>> and will run it as-is.\n",
      "Please report this to the TensorFlow team. When filing the bug, set the verbosity to 10 (on Linux, `export AUTOGRAPH_VERBOSITY=10`) and attach the full output.\n",
      "Cause: module 'gast' has no attribute 'Constant'\n",
      "To silence this warning, decorate the function with @tf.autograph.experimental.do_not_convert\n",
      "WARNING: AutoGraph could not transform <bound method ScaledDotProductAttention.call of <keras_self_attention.scaled_dot_attention.ScaledDotProductAttention object at 0x0000023CB924D908>> and will run it as-is.\n",
      "Please report this to the TensorFlow team. When filing the bug, set the verbosity to 10 (on Linux, `export AUTOGRAPH_VERBOSITY=10`) and attach the full output.\n",
      "Cause: module 'gast' has no attribute 'Constant'\n",
      "To silence this warning, decorate the function with @tf.autograph.experimental.do_not_convert\n",
      "WARNING:tensorflow:AutoGraph could not transform <bound method FeedForward.call of <keras_position_wise_feed_forward.feed_forward.FeedForward object at 0x0000023CB9202EB8>> and will run it as-is.\n",
      "Please report this to the TensorFlow team. When filing the bug, set the verbosity to 10 (on Linux, `export AUTOGRAPH_VERBOSITY=10`) and attach the full output.\n",
      "Cause: 'arguments' object has no attribute 'posonlyargs'\n",
      "To silence this warning, decorate the function with @tf.autograph.experimental.do_not_convert\n",
      "WARNING: AutoGraph could not transform <bound method FeedForward.call of <keras_position_wise_feed_forward.feed_forward.FeedForward object at 0x0000023CB9202EB8>> and will run it as-is.\n",
      "Please report this to the TensorFlow team. When filing the bug, set the verbosity to 10 (on Linux, `export AUTOGRAPH_VERBOSITY=10`) and attach the full output.\n",
      "Cause: 'arguments' object has no attribute 'posonlyargs'\n",
      "To silence this warning, decorate the function with @tf.autograph.experimental.do_not_convert\n",
      "WARNING:tensorflow:AutoGraph could not transform <bound method EmbeddingSimilarity.call of <keras_bert.layers.embedding.EmbeddingSimilarity object at 0x0000023F71AEECC0>> and will run it as-is.\n",
      "Please report this to the TensorFlow team. When filing the bug, set the verbosity to 10 (on Linux, `export AUTOGRAPH_VERBOSITY=10`) and attach the full output.\n",
      "Cause: 'arguments' object has no attribute 'posonlyargs'\n",
      "To silence this warning, decorate the function with @tf.autograph.experimental.do_not_convert\n",
      "WARNING: AutoGraph could not transform <bound method EmbeddingSimilarity.call of <keras_bert.layers.embedding.EmbeddingSimilarity object at 0x0000023F71AEECC0>> and will run it as-is.\n",
      "Please report this to the TensorFlow team. When filing the bug, set the verbosity to 10 (on Linux, `export AUTOGRAPH_VERBOSITY=10`) and attach the full output.\n",
      "Cause: 'arguments' object has no attribute 'posonlyargs'\n",
      "To silence this warning, decorate the function with @tf.autograph.experimental.do_not_convert\n",
      "WARNING:tensorflow:AutoGraph could not transform <bound method Masked.call of <keras_bert.layers.masked.Masked object at 0x0000023F71B05F28>> and will run it as-is.\n",
      "Please report this to the TensorFlow team. When filing the bug, set the verbosity to 10 (on Linux, `export AUTOGRAPH_VERBOSITY=10`) and attach the full output.\n",
      "Cause: module 'gast' has no attribute 'Constant'\n",
      "To silence this warning, decorate the function with @tf.autograph.experimental.do_not_convert\n",
      "WARNING: AutoGraph could not transform <bound method Masked.call of <keras_bert.layers.masked.Masked object at 0x0000023F71B05F28>> and will run it as-is.\n",
      "Please report this to the TensorFlow team. When filing the bug, set the verbosity to 10 (on Linux, `export AUTOGRAPH_VERBOSITY=10`) and attach the full output.\n",
      "Cause: module 'gast' has no attribute 'Constant'\n",
      "To silence this warning, decorate the function with @tf.autograph.experimental.do_not_convert\n",
      "WARNING:tensorflow:AutoGraph could not transform <bound method Extract.call of <keras_bert.layers.extract.Extract object at 0x0000023F71B09C50>> and will run it as-is.\n",
      "Please report this to the TensorFlow team. When filing the bug, set the verbosity to 10 (on Linux, `export AUTOGRAPH_VERBOSITY=10`) and attach the full output.\n",
      "Cause: 'arguments' object has no attribute 'posonlyargs'\n",
      "To silence this warning, decorate the function with @tf.autograph.experimental.do_not_convert\n"
     ]
    },
    {
     "name": "stdout",
     "output_type": "stream",
     "text": [
      "WARNING: AutoGraph could not transform <bound method Extract.call of <keras_bert.layers.extract.Extract object at 0x0000023F71B09C50>> and will run it as-is.\n",
      "Please report this to the TensorFlow team. When filing the bug, set the verbosity to 10 (on Linux, `export AUTOGRAPH_VERBOSITY=10`) and attach the full output.\n",
      "Cause: 'arguments' object has no attribute 'posonlyargs'\n",
      "To silence this warning, decorate the function with @tf.autograph.experimental.do_not_convert\n",
      "Epoch 1/15\n",
      "WARNING:tensorflow:AutoGraph could not transform <function Model.make_train_function.<locals>.train_function at 0x0000023CE63D2488> and will run it as-is.\n",
      "Please report this to the TensorFlow team. When filing the bug, set the verbosity to 10 (on Linux, `export AUTOGRAPH_VERBOSITY=10`) and attach the full output.\n",
      "Cause: 'arguments' object has no attribute 'posonlyargs'\n",
      "To silence this warning, decorate the function with @tf.autograph.experimental.do_not_convert\n",
      "WARNING: AutoGraph could not transform <function Model.make_train_function.<locals>.train_function at 0x0000023CE63D2488> and will run it as-is.\n",
      "Please report this to the TensorFlow team. When filing the bug, set the verbosity to 10 (on Linux, `export AUTOGRAPH_VERBOSITY=10`) and attach the full output.\n",
      "Cause: 'arguments' object has no attribute 'posonlyargs'\n",
      "To silence this warning, decorate the function with @tf.autograph.experimental.do_not_convert\n",
      "60/60 [==============================] - 60s 1s/step - loss: 6.3905 - code_design_output_loss: 0.5780 - code_style_output_loss: 0.6192 - code_naming_output_loss: 0.3281 - code_logic_output_loss: 0.6682 - code_io_output_loss: 0.4935 - code_data_output_loss: 0.7364 - code_doc_output_loss: 0.3912 - code_api_output_loss: 0.4730 - compatibility_output_loss: 0.5049 - rule_def_output_loss: 0.4829 - config_commit_patch_review_output_loss: 0.5522 - config_building_installing_output_loss: 0.5630 - code_design_output_accuracy: 0.6966 - code_style_output_accuracy: 0.6053 - code_naming_output_accuracy: 0.9607 - code_logic_output_accuracy: 0.5709 - code_io_output_accuracy: 0.8301 - code_data_output_accuracy: 0.4277 - code_doc_output_accuracy: 0.9466 - code_api_output_accuracy: 0.8806 - compatibility_output_accuracy: 0.7444 - rule_def_output_accuracy: 0.8869 - config_commit_patch_review_output_accuracy: 0.7093 - config_building_installing_output_accuracy: 0.6503\n",
      "Epoch 2/15\n",
      "60/60 [==============================] - 57s 950ms/step - loss: 3.2843 - code_design_output_loss: 0.2772 - code_style_output_loss: 0.3238 - code_naming_output_loss: 0.1770 - code_logic_output_loss: 0.6207 - code_io_output_loss: 0.1265 - code_data_output_loss: 0.5656 - code_doc_output_loss: 0.2234 - code_api_output_loss: 0.3164 - compatibility_output_loss: 0.1234 - rule_def_output_loss: 0.1750 - config_commit_patch_review_output_loss: 0.1569 - config_building_installing_output_loss: 0.1985 - code_design_output_accuracy: 0.9291 - code_style_output_accuracy: 0.9080 - code_naming_output_accuracy: 0.9621 - code_logic_output_accuracy: 0.6538 - code_io_output_accuracy: 0.9867 - code_data_output_accuracy: 0.7142 - code_doc_output_accuracy: 0.9473 - code_api_output_accuracy: 0.9038 - compatibility_output_accuracy: 0.9831 - rule_def_output_accuracy: 0.9684 - config_commit_patch_review_output_accuracy: 0.9740 - config_building_installing_output_accuracy: 0.9558\n",
      "Epoch 3/15\n",
      "60/60 [==============================] - 57s 950ms/step - loss: 2.9206 - code_design_output_loss: 0.2575 - code_style_output_loss: 0.3035 - code_naming_output_loss: 0.1600 - code_logic_output_loss: 0.5437 - code_io_output_loss: 0.0909 - code_data_output_loss: 0.5170 - code_doc_output_loss: 0.2103 - code_api_output_loss: 0.2986 - compatibility_output_loss: 0.0952 - rule_def_output_loss: 0.1533 - config_commit_patch_review_output_loss: 0.1270 - config_building_installing_output_loss: 0.1636 - code_design_output_accuracy: 0.9291 - code_style_output_accuracy: 0.9080 - code_naming_output_accuracy: 0.9621 - code_logic_output_accuracy: 0.7156 - code_io_output_accuracy: 0.9867 - code_data_output_accuracy: 0.7346 - code_doc_output_accuracy: 0.9473 - code_api_output_accuracy: 0.9038 - compatibility_output_accuracy: 0.9831 - rule_def_output_accuracy: 0.9684 - config_commit_patch_review_output_accuracy: 0.9740 - config_building_installing_output_accuracy: 0.9572\n",
      "Epoch 4/15\n",
      "60/60 [==============================] - 57s 951ms/step - loss: 2.6866 - code_design_output_loss: 0.2542 - code_style_output_loss: 0.2815 - code_naming_output_loss: 0.1466 - code_logic_output_loss: 0.4698 - code_io_output_loss: 0.0820 - code_data_output_loss: 0.4640 - code_doc_output_loss: 0.2028 - code_api_output_loss: 0.2740 - compatibility_output_loss: 0.0881 - rule_def_output_loss: 0.1477 - config_commit_patch_review_output_loss: 0.1241 - config_building_installing_output_loss: 0.1517 - code_design_output_accuracy: 0.9291 - code_style_output_accuracy: 0.9080 - code_naming_output_accuracy: 0.9621 - code_logic_output_accuracy: 0.7711 - code_io_output_accuracy: 0.9867 - code_data_output_accuracy: 0.7732 - code_doc_output_accuracy: 0.9473 - code_api_output_accuracy: 0.9038 - compatibility_output_accuracy: 0.9831 - rule_def_output_accuracy: 0.9684 - config_commit_patch_review_output_accuracy: 0.9740 - config_building_installing_output_accuracy: 0.9572\n",
      "Epoch 5/15\n",
      "60/60 [==============================] - 57s 949ms/step - loss: 2.4047 - code_design_output_loss: 0.2516 - code_style_output_loss: 0.2262 - code_naming_output_loss: 0.1349 - code_logic_output_loss: 0.3958 - code_io_output_loss: 0.0827 - code_data_output_loss: 0.4135 - code_doc_output_loss: 0.1918 - code_api_output_loss: 0.2292 - compatibility_output_loss: 0.0852 - rule_def_output_loss: 0.1432 - config_commit_patch_review_output_loss: 0.1182 - config_building_installing_output_loss: 0.1324 - code_design_output_accuracy: 0.9291 - code_style_output_accuracy: 0.9143 - code_naming_output_accuracy: 0.9621 - code_logic_output_accuracy: 0.8265 - code_io_output_accuracy: 0.9867 - code_data_output_accuracy: 0.8118 - code_doc_output_accuracy: 0.9473 - code_api_output_accuracy: 0.9101 - compatibility_output_accuracy: 0.9831 - rule_def_output_accuracy: 0.9684 - config_commit_patch_review_output_accuracy: 0.9740 - config_building_installing_output_accuracy: 0.9572\n",
      "Epoch 6/15\n",
      "60/60 [==============================] - 57s 948ms/step - loss: 2.1255 - code_design_output_loss: 0.2451 - code_style_output_loss: 0.1623 - code_naming_output_loss: 0.1187 - code_logic_output_loss: 0.3444 - code_io_output_loss: 0.0797 - code_data_output_loss: 0.3509 - code_doc_output_loss: 0.1733 - code_api_output_loss: 0.2031 - compatibility_output_loss: 0.0867 - rule_def_output_loss: 0.1331 - config_commit_patch_review_output_loss: 0.1086 - config_building_installing_output_loss: 0.1196 - code_design_output_accuracy: 0.9291 - code_style_output_accuracy: 0.9487 - code_naming_output_accuracy: 0.9649 - code_logic_output_accuracy: 0.8455 - code_io_output_accuracy: 0.9867 - code_data_output_accuracy: 0.8518 - code_doc_output_accuracy: 0.9473 - code_api_output_accuracy: 0.9213 - compatibility_output_accuracy: 0.9831 - rule_def_output_accuracy: 0.9684 - config_commit_patch_review_output_accuracy: 0.9740 - config_building_installing_output_accuracy: 0.9614\n",
      "Epoch 7/15\n",
      "60/60 [==============================] - 57s 958ms/step - loss: 1.8308 - code_design_output_loss: 0.2353 - code_style_output_loss: 0.1252 - code_naming_output_loss: 0.0957 - code_logic_output_loss: 0.2754 - code_io_output_loss: 0.0776 - code_data_output_loss: 0.2922 - code_doc_output_loss: 0.1515 - code_api_output_loss: 0.1839 - compatibility_output_loss: 0.0782 - rule_def_output_loss: 0.1206 - config_commit_patch_review_output_loss: 0.0978 - config_building_installing_output_loss: 0.0974 - code_design_output_accuracy: 0.9284 - code_style_output_accuracy: 0.9656 - code_naming_output_accuracy: 0.9698 - code_logic_output_accuracy: 0.8799 - code_io_output_accuracy: 0.9867 - code_data_output_accuracy: 0.8862 - code_doc_output_accuracy: 0.9480 - code_api_output_accuracy: 0.9333 - compatibility_output_accuracy: 0.9831 - rule_def_output_accuracy: 0.9684 - config_commit_patch_review_output_accuracy: 0.9740 - config_building_installing_output_accuracy: 0.9635\n",
      "Epoch 8/15\n",
      "60/60 [==============================] - 57s 955ms/step - loss: 1.5362 - code_design_output_loss: 0.2155 - code_style_output_loss: 0.0841 - code_naming_output_loss: 0.0751 - code_logic_output_loss: 0.2231 - code_io_output_loss: 0.0740 - code_data_output_loss: 0.2159 - code_doc_output_loss: 0.1316 - code_api_output_loss: 0.1570 - compatibility_output_loss: 0.0760 - rule_def_output_loss: 0.1110 - config_commit_patch_review_output_loss: 0.0901 - config_building_installing_output_loss: 0.0829 - code_design_output_accuracy: 0.9291 - code_style_output_accuracy: 0.9810 - code_naming_output_accuracy: 0.9712 - code_logic_output_accuracy: 0.9150 - code_io_output_accuracy: 0.9867 - code_data_output_accuracy: 0.9256 - code_doc_output_accuracy: 0.9586 - code_api_output_accuracy: 0.9515 - compatibility_output_accuracy: 0.9831 - rule_def_output_accuracy: 0.9684 - config_commit_patch_review_output_accuracy: 0.9740 - config_building_installing_output_accuracy: 0.9691\n",
      "Epoch 9/15\n",
      "60/60 [==============================] - 57s 952ms/step - loss: 1.3077 - code_design_output_loss: 0.1999 - code_style_output_loss: 0.0734 - code_naming_output_loss: 0.0699 - code_logic_output_loss: 0.1671 - code_io_output_loss: 0.0693 - code_data_output_loss: 0.1652 - code_doc_output_loss: 0.1063 - code_api_output_loss: 0.1258 - compatibility_output_loss: 0.0683 - rule_def_output_loss: 0.1013 - config_commit_patch_review_output_loss: 0.0820 - config_building_installing_output_loss: 0.0794 - code_design_output_accuracy: 0.9312 - code_style_output_accuracy: 0.9846 - code_naming_output_accuracy: 0.9789 - code_logic_output_accuracy: 0.9480 - code_io_output_accuracy: 0.9867 - code_data_output_accuracy: 0.9480 - code_doc_output_accuracy: 0.9698 - code_api_output_accuracy: 0.9607 - compatibility_output_accuracy: 0.9831 - rule_def_output_accuracy: 0.9691 - config_commit_patch_review_output_accuracy: 0.9733 - config_building_installing_output_accuracy: 0.9733\n",
      "Epoch 10/15\n",
      "60/60 [==============================] - 57s 952ms/step - loss: 1.1400 - code_design_output_loss: 0.1719 - code_style_output_loss: 0.0618 - code_naming_output_loss: 0.0546 - code_logic_output_loss: 0.1434 - code_io_output_loss: 0.0652 - code_data_output_loss: 0.1374 - code_doc_output_loss: 0.0942 - code_api_output_loss: 0.1150 - compatibility_output_loss: 0.0662 - rule_def_output_loss: 0.0904 - config_commit_patch_review_output_loss: 0.0719 - config_building_installing_output_loss: 0.0680 - code_design_output_accuracy: 0.9382 - code_style_output_accuracy: 0.9895 - code_naming_output_accuracy: 0.9853 - code_logic_output_accuracy: 0.9551 - code_io_output_accuracy: 0.9867 - code_data_output_accuracy: 0.9614 - code_doc_output_accuracy: 0.9719 - code_api_output_accuracy: 0.9593 - compatibility_output_accuracy: 0.9838 - rule_def_output_accuracy: 0.9726 - config_commit_patch_review_output_accuracy: 0.9754 - config_building_installing_output_accuracy: 0.9789\n",
      "Epoch 11/15\n",
      "60/60 [==============================] - 57s 951ms/step - loss: 0.9401 - code_design_output_loss: 0.1435 - code_style_output_loss: 0.0483 - code_naming_output_loss: 0.0464 - code_logic_output_loss: 0.1089 - code_io_output_loss: 0.0606 - code_data_output_loss: 0.0989 - code_doc_output_loss: 0.0732 - code_api_output_loss: 0.0950 - compatibility_output_loss: 0.0595 - rule_def_output_loss: 0.0809 - config_commit_patch_review_output_loss: 0.0709 - config_building_installing_output_loss: 0.0540 - code_design_output_accuracy: 0.9529 - code_style_output_accuracy: 0.9930 - code_naming_output_accuracy: 0.9888 - code_logic_output_accuracy: 0.9726 - code_io_output_accuracy: 0.9867 - code_data_output_accuracy: 0.9761 - code_doc_output_accuracy: 0.9796 - code_api_output_accuracy: 0.9698 - compatibility_output_accuracy: 0.9831 - rule_def_output_accuracy: 0.9740 - config_commit_patch_review_output_accuracy: 0.9754 - config_building_installing_output_accuracy: 0.9860\n",
      "Epoch 12/15\n",
      "60/60 [==============================] - 57s 951ms/step - loss: 0.8127 - code_design_output_loss: 0.1127 - code_style_output_loss: 0.0425 - code_naming_output_loss: 0.0435 - code_logic_output_loss: 0.0936 - code_io_output_loss: 0.0537 - code_data_output_loss: 0.0899 - code_doc_output_loss: 0.0656 - code_api_output_loss: 0.0803 - compatibility_output_loss: 0.0552 - rule_def_output_loss: 0.0680 - config_commit_patch_review_output_loss: 0.0593 - config_building_installing_output_loss: 0.0484 - code_design_output_accuracy: 0.9600 - code_style_output_accuracy: 0.9944 - code_naming_output_accuracy: 0.9909 - code_logic_output_accuracy: 0.9789 - code_io_output_accuracy: 0.9867 - code_data_output_accuracy: 0.9796 - code_doc_output_accuracy: 0.9789 - code_api_output_accuracy: 0.9754 - compatibility_output_accuracy: 0.9831 - rule_def_output_accuracy: 0.9782 - config_commit_patch_review_output_accuracy: 0.9838 - config_building_installing_output_accuracy: 0.9860\n",
      "Epoch 13/15\n",
      "60/60 [==============================] - 57s 952ms/step - loss: 0.6761 - code_design_output_loss: 0.0783 - code_style_output_loss: 0.0383 - code_naming_output_loss: 0.0367 - code_logic_output_loss: 0.0673 - code_io_output_loss: 0.0508 - code_data_output_loss: 0.0785 - code_doc_output_loss: 0.0562 - code_api_output_loss: 0.0660 - compatibility_output_loss: 0.0487 - rule_def_output_loss: 0.0603 - config_commit_patch_review_output_loss: 0.0539 - config_building_installing_output_loss: 0.0411 - code_design_output_accuracy: 0.9775 - code_style_output_accuracy: 0.9930 - code_naming_output_accuracy: 0.9930 - code_logic_output_accuracy: 0.9895 - code_io_output_accuracy: 0.9867 - code_data_output_accuracy: 0.9803 - code_doc_output_accuracy: 0.9838 - code_api_output_accuracy: 0.9860 - compatibility_output_accuracy: 0.9867 - rule_def_output_accuracy: 0.9810 - config_commit_patch_review_output_accuracy: 0.9824 - config_building_installing_output_accuracy: 0.9895\n",
      "Epoch 14/15\n",
      "60/60 [==============================] - 57s 953ms/step - loss: 0.5634 - code_design_output_loss: 0.0580 - code_style_output_loss: 0.0359 - code_naming_output_loss: 0.0303 - code_logic_output_loss: 0.0637 - code_io_output_loss: 0.0442 - code_data_output_loss: 0.0605 - code_doc_output_loss: 0.0405 - code_api_output_loss: 0.0529 - compatibility_output_loss: 0.0448 - rule_def_output_loss: 0.0493 - config_commit_patch_review_output_loss: 0.0498 - config_building_installing_output_loss: 0.0333 - code_design_output_accuracy: 0.9874 - code_style_output_accuracy: 0.9951 - code_naming_output_accuracy: 0.9965 - code_logic_output_accuracy: 0.9831 - code_io_output_accuracy: 0.9867 - code_data_output_accuracy: 0.9881 - code_doc_output_accuracy: 0.9937 - code_api_output_accuracy: 0.9874 - compatibility_output_accuracy: 0.9853 - rule_def_output_accuracy: 0.9881 - config_commit_patch_review_output_accuracy: 0.9874 - config_building_installing_output_accuracy: 0.9951\n",
      "Epoch 15/15\n"
     ]
    },
    {
     "name": "stdout",
     "output_type": "stream",
     "text": [
      "60/60 [==============================] - 57s 956ms/step - loss: 0.4891 - code_design_output_loss: 0.0524 - code_style_output_loss: 0.0338 - code_naming_output_loss: 0.0301 - code_logic_output_loss: 0.0589 - code_io_output_loss: 0.0423 - code_data_output_loss: 0.0438 - code_doc_output_loss: 0.0320 - code_api_output_loss: 0.0436 - compatibility_output_loss: 0.0363 - rule_def_output_loss: 0.0424 - config_commit_patch_review_output_loss: 0.0386 - config_building_installing_output_loss: 0.0351 - code_design_output_accuracy: 0.9874 - code_style_output_accuracy: 0.9958 - code_naming_output_accuracy: 0.9958 - code_logic_output_accuracy: 0.9881 - code_io_output_accuracy: 0.9888 - code_data_output_accuracy: 0.9958 - code_doc_output_accuracy: 0.9937 - code_api_output_accuracy: 0.9916 - compatibility_output_accuracy: 0.9895 - rule_def_output_accuracy: 0.9916 - config_commit_patch_review_output_accuracy: 0.9909 - config_building_installing_output_accuracy: 0.9916\n"
     ]
    }
   ],
   "source": [
    "np.random.seed(random_seed)\n",
    "set_random_seed(random_seed)\n",
    "\n",
    "batch_size = 24\n",
    "epochs = 15\n",
    "lr=2e-5\n",
    "layers_num=12\n",
    "\n",
    "model = get_model(seq_len, subject_columns, layers_num, config_path, checkpoint_path, lr)\n",
    "\n",
    "history = model.fit(\n",
    "                x_train,\n",
    "                y_all_train,\n",
    "                epochs=epochs,\n",
    "                batch_size=batch_size,\n",
    "                verbose=1,\n",
    "                shuffle=True,\n",
    "            )\n"
   ]
  },
  {
   "cell_type": "code",
   "execution_count": 23,
   "metadata": {
    "ExecuteTime": {
     "end_time": "2021-06-29T10:02:26.768059Z",
     "start_time": "2021-06-29T10:02:21.215991Z"
    }
   },
   "outputs": [
    {
     "name": "stdout",
     "output_type": "stream",
     "text": [
      "Predicting...\n"
     ]
    }
   ],
   "source": [
    "print(\"Predicting...\")\n",
    "y_pred_subject = model.predict(x_test) \n",
    "\n",
    "y_pred_subject = np.array(y_pred_subject).reshape(len(y_pred_subject),len(y_pred_subject[0])).transpose()\n",
    "subject_all_preds = []\n",
    "for preds in y_pred_subject:\n",
    "    subject_all_preds.append([1 if x > 0.5 else 0 for x in preds]) \n",
    "subject_preds_df = pd.DataFrame(subject_all_preds, columns=subject_columns)\n"
   ]
  },
  {
   "cell_type": "code",
   "execution_count": 24,
   "metadata": {
    "ExecuteTime": {
     "end_time": "2021-06-29T10:02:28.987678Z",
     "start_time": "2021-06-29T10:02:27.006058Z"
    }
   },
   "outputs": [
    {
     "name": "stdout",
     "output_type": "stream",
     "text": [
      "Subject code_design AUC = 0.56\n",
      "Subject code_design Accuracy = 0.95\n",
      "Subject code_design Precision (macro) = 0.6\n",
      "Subject code_design Recall (macro) = 0.56\n",
      "Subject code_design F1-score (macro) = 0.58\n",
      "Subject code_design Precision (micro) = 0.95\n",
      "Subject code_design Recall (micro) = 0.95\n",
      "Subject code_design F1-score (micro) = 0.95\n",
      "Subject code_design Precision (binary) = 0.24\n",
      "Subject code_design Recall (binary) = 0.14\n",
      "Subject code_design F1-score (binary) = 0.17\n",
      "Subject code_design MCC = 0.16\n",
      "Subject code_style AUC = 0.79\n",
      "Subject code_style Accuracy = 0.96\n",
      "Subject code_style Precision (macro) = 0.89\n",
      "Subject code_style Recall (macro) = 0.79\n",
      "Subject code_style F1-score (macro) = 0.83\n",
      "Subject code_style Precision (micro) = 0.96\n",
      "Subject code_style Recall (micro) = 0.96\n",
      "Subject code_style F1-score (micro) = 0.96\n",
      "Subject code_style Precision (binary) = 0.8\n",
      "Subject code_style Recall (binary) = 0.59\n",
      "Subject code_style F1-score (binary) = 0.68\n",
      "Subject code_style MCC = 0.67\n",
      "Subject code_naming AUC = 0.62\n",
      "Subject code_naming Accuracy = 0.97\n",
      "Subject code_naming Precision (macro) = 0.82\n",
      "Subject code_naming Recall (macro) = 0.62\n",
      "Subject code_naming F1-score (macro) = 0.67\n",
      "Subject code_naming Precision (micro) = 0.97\n",
      "Subject code_naming Recall (micro) = 0.97\n",
      "Subject code_naming F1-score (micro) = 0.97\n",
      "Subject code_naming Precision (binary) = 0.67\n",
      "Subject code_naming Recall (binary) = 0.25\n",
      "Subject code_naming F1-score (binary) = 0.36\n",
      "Subject code_naming MCC = 0.4\n",
      "Subject code_logic AUC = 0.79\n",
      "Subject code_logic Accuracy = 0.77\n",
      "Subject code_logic Precision (macro) = 0.75\n",
      "Subject code_logic Recall (macro) = 0.79\n",
      "Subject code_logic F1-score (macro) = 0.76\n",
      "Subject code_logic Precision (micro) = 0.77\n",
      "Subject code_logic Recall (micro) = 0.77\n",
      "Subject code_logic F1-score (micro) = 0.77\n",
      "Subject code_logic Precision (binary) = 0.6\n",
      "Subject code_logic Recall (binary) = 0.83\n",
      "Subject code_logic F1-score (binary) = 0.7\n",
      "Subject code_logic MCC = 0.54\n",
      "Subject code_io AUC = 0.5\n",
      "Subject code_io Accuracy = 0.97\n",
      "Subject code_io Precision (macro) = 0.48\n",
      "Subject code_io Recall (macro) = 0.5\n",
      "Subject code_io F1-score (macro) = 0.49\n",
      "Subject code_io Precision (micro) = 0.97\n",
      "Subject code_io Recall (micro) = 0.97\n",
      "Subject code_io F1-score (micro) = 0.97\n",
      "Subject code_io Precision (binary) = 0.0\n",
      "Subject code_io Recall (binary) = 0.0\n",
      "Subject code_io F1-score (binary) = 0.0\n",
      "Subject code_io MCC = 0.0\n",
      "Subject code_data AUC = 0.78\n",
      "Subject code_data Accuracy = 0.81\n",
      "Subject code_data Precision (macro) = 0.82\n",
      "Subject code_data Recall (macro) = 0.78\n",
      "Subject code_data F1-score (macro) = 0.79\n",
      "Subject code_data Precision (micro) = 0.81\n",
      "Subject code_data Recall (micro) = 0.81\n",
      "Subject code_data F1-score (micro) = 0.81\n",
      "Subject code_data Precision (binary) = 0.83\n",
      "Subject code_data Recall (binary) = 0.65\n",
      "Subject code_data F1-score (binary) = 0.73\n",
      "Subject code_data MCC = 0.6\n",
      "Subject code_doc AUC = 0.52\n",
      "Subject code_doc Accuracy = 0.96\n",
      "Subject code_doc Precision (macro) = 0.59\n",
      "Subject code_doc Recall (macro) = 0.52\n",
      "Subject code_doc F1-score (macro) = 0.52\n",
      "Subject code_doc Precision (micro) = 0.96\n",
      "Subject code_doc Recall (micro) = 0.96\n",
      "Subject code_doc F1-score (micro) = 0.96\n",
      "Subject code_doc Precision (binary) = 0.22\n",
      "Subject code_doc Recall (binary) = 0.04\n",
      "Subject code_doc F1-score (binary) = 0.068\n",
      "Subject code_doc MCC = 0.079\n",
      "Subject code_api AUC = 0.71\n",
      "Subject code_api Accuracy = 0.91\n",
      "Subject code_api Precision (macro) = 0.81\n",
      "Subject code_api Recall (macro) = 0.71\n",
      "Subject code_api F1-score (macro) = 0.75\n",
      "Subject code_api Precision (micro) = 0.91\n",
      "Subject code_api Recall (micro) = 0.91\n",
      "Subject code_api F1-score (micro) = 0.91\n",
      "Subject code_api Precision (binary) = 0.68\n",
      "Subject code_api Recall (binary) = 0.45\n",
      "Subject code_api F1-score (binary) = 0.54\n",
      "Subject code_api MCC = 0.51\n",
      "Subject compatibility AUC = 0.51\n",
      "Subject compatibility Accuracy = 0.95\n",
      "Subject compatibility Precision (macro) = 0.98\n",
      "Subject compatibility Recall (macro) = 0.51\n",
      "Subject compatibility F1-score (macro) = 0.5\n",
      "Subject compatibility Precision (micro) = 0.95\n",
      "Subject compatibility Recall (micro) = 0.95\n",
      "Subject compatibility F1-score (micro) = 0.95\n",
      "Subject compatibility Precision (binary) = 1.0\n",
      "Subject compatibility Recall (binary) = 0.017\n",
      "Subject compatibility F1-score (binary) = 0.033\n",
      "Subject compatibility MCC = 0.13\n",
      "Subject rule_def AUC = 0.59\n",
      "Subject rule_def Accuracy = 0.98\n",
      "Subject rule_def Precision (macro) = 0.92\n",
      "Subject rule_def Recall (macro) = 0.59\n",
      "Subject rule_def F1-score (macro) = 0.64\n",
      "Subject rule_def Precision (micro) = 0.98\n",
      "Subject rule_def Recall (micro) = 0.98\n",
      "Subject rule_def F1-score (micro) = 0.98\n",
      "Subject rule_def Precision (binary) = 0.86\n",
      "Subject rule_def Recall (binary) = 0.18\n",
      "Subject rule_def F1-score (binary) = 0.29\n",
      "Subject rule_def MCC = 0.38\n"
     ]
    },
    {
     "name": "stderr",
     "output_type": "stream",
     "text": [
      "C:\\Users\\user\\Anaconda3\\envs\\ml2\\lib\\site-packages\\sklearn\\metrics\\_classification.py:1272: UndefinedMetricWarning: Precision is ill-defined and being set to 0.0 in labels with no predicted samples. Use `zero_division` parameter to control this behavior.\n",
      "  _warn_prf(average, modifier, msg_start, len(result))\n",
      "C:\\Users\\user\\Anaconda3\\envs\\ml2\\lib\\site-packages\\sklearn\\metrics\\_classification.py:1272: UndefinedMetricWarning: Precision is ill-defined and being set to 0.0 due to no predicted samples. Use `zero_division` parameter to control this behavior.\n",
      "  _warn_prf(average, modifier, msg_start, len(result))\n",
      "C:\\Users\\user\\Anaconda3\\envs\\ml2\\lib\\site-packages\\sklearn\\metrics\\_classification.py:900: RuntimeWarning: invalid value encountered in double_scalars\n",
      "  mcc = cov_ytyp / np.sqrt(cov_ytyt * cov_ypyp)\n"
     ]
    },
    {
     "name": "stdout",
     "output_type": "stream",
     "text": [
      "Subject config_commit_patch_review AUC = 0.61\n",
      "Subject config_commit_patch_review Accuracy = 0.96\n",
      "Subject config_commit_patch_review Precision (macro) = 0.98\n",
      "Subject config_commit_patch_review Recall (macro) = 0.61\n",
      "Subject config_commit_patch_review F1-score (macro) = 0.67\n",
      "Subject config_commit_patch_review Precision (micro) = 0.96\n",
      "Subject config_commit_patch_review Recall (micro) = 0.96\n",
      "Subject config_commit_patch_review F1-score (micro) = 0.96\n",
      "Subject config_commit_patch_review Precision (binary) = 1.0\n",
      "Subject config_commit_patch_review Recall (binary) = 0.21\n",
      "Subject config_commit_patch_review F1-score (binary) = 0.35\n",
      "Subject config_commit_patch_review MCC = 0.45\n",
      "Subject config_building_installing AUC = 0.61\n",
      "Subject config_building_installing Accuracy = 0.95\n",
      "Subject config_building_installing Precision (macro) = 0.67\n",
      "Subject config_building_installing Recall (macro) = 0.61\n",
      "Subject config_building_installing F1-score (macro) = 0.63\n",
      "Subject config_building_installing Precision (micro) = 0.95\n",
      "Subject config_building_installing Recall (micro) = 0.95\n",
      "Subject config_building_installing F1-score (micro) = 0.95\n",
      "Subject config_building_installing Precision (binary) = 0.37\n",
      "Subject config_building_installing Recall (binary) = 0.25\n",
      "Subject config_building_installing F1-score (binary) = 0.3\n",
      "Subject config_building_installing MCC = 0.28\n",
      "Preparing confusion matrix for the comment subjects.\n"
     ]
    },
    {
     "name": "stderr",
     "output_type": "stream",
     "text": [
      "C:\\Users\\user\\Anaconda3\\envs\\ml2\\lib\\site-packages\\matplotlib\\figure.py:2299: UserWarning: This figure includes Axes that are not compatible with tight_layout, so results might be incorrect.\n",
      "  warnings.warn(\"This figure includes Axes that are not compatible \"\n"
     ]
    },
    {
     "name": "stdout",
     "output_type": "stream",
     "text": [
      "Confusion matrix for the comment subject saved to ./output/cross-wireshark-subject_cm.pdf.\n"
     ]
    }
   ],
   "source": [
    "y_true_df = pd.DataFrame(y_all_test)\n",
    "y_true_df.columns = [str(col).replace(\"_output\", \"\") for col in y_true_df.columns]\n",
    "\n",
    "results = dict()\n",
    "\n",
    "for subject in subject_columns:\n",
    "    subject_acc = accuracy_score(y_true_df[subject], subject_preds_df[subject])\n",
    "    subject_f1 = f1_score(y_true_df[subject], subject_preds_df[subject], average=\"macro\")\n",
    "    subject_precision = precision_score(y_true_df[subject], subject_preds_df[subject], average=\"macro\")\n",
    "    subject_recall = recall_score(y_true_df[subject], subject_preds_df[subject], average=\"macro\")\n",
    "    subject_f1_micro = f1_score(y_true_df[subject], subject_preds_df[subject], average=\"micro\")\n",
    "    subject_precision_micro = precision_score(y_true_df[subject], subject_preds_df[subject], average=\"micro\")\n",
    "    subject_recall_micro = recall_score(y_true_df[subject], subject_preds_df[subject], average=\"micro\")\n",
    "    subject_f1_binary = f1_score(y_true_df[subject], subject_preds_df[subject], average=\"binary\")\n",
    "    subject_precision_binary = precision_score(y_true_df[subject], subject_preds_df[subject], average=\"binary\")\n",
    "    subject_recall_binary = recall_score(y_true_df[subject], subject_preds_df[subject], average=\"binary\")\n",
    "    subject_mcc = mcc_score(y_true_df[subject], subject_preds_df[subject])    \n",
    "    try:\n",
    "        subject_roc_auc_score = roc_auc_score(y_true_df[subject], subject_preds_df[subject])\n",
    "        print(f\"Subject {subject} AUC = {subject_roc_auc_score:.2}\")\n",
    "    except:\n",
    "        subject_roc_auc_score = None\n",
    "    \n",
    "    print(f\"Subject {subject} Accuracy = {subject_acc:.2f}\")\n",
    "    print(f\"Subject {subject} Precision (macro) = {subject_precision:.2}\")\n",
    "    print(f\"Subject {subject} Recall (macro) = {subject_recall:.2}\")\n",
    "    print(f\"Subject {subject} F1-score (macro) = {subject_f1:.2}\")\n",
    "    print(f\"Subject {subject} Precision (micro) = {subject_precision_micro:.2}\")\n",
    "    print(f\"Subject {subject} Recall (micro) = {subject_recall_micro:.2}\")\n",
    "    print(f\"Subject {subject} F1-score (micro) = {subject_f1_micro:.2}\")\n",
    "    print(f\"Subject {subject} Precision (binary) = {subject_precision_binary:.2}\")\n",
    "    print(f\"Subject {subject} Recall (binary) = {subject_recall_binary:.2}\")\n",
    "    print(f\"Subject {subject} F1-score (binary) = {subject_f1_binary:.2}\")\n",
    "    print(f\"Subject {subject} MCC = {subject_mcc:.2}\")\n",
    "\n",
    "\n",
    "    results[subject] = dict()\n",
    "    results[subject]['acc'] = subject_acc\n",
    "    results[subject]['rec_macro']= subject_recall\n",
    "    results[subject]['prec_macro'] = subject_precision\n",
    "    results[subject]['fscore_macro'] = subject_f1\n",
    "    results[subject]['rec_micro']= subject_recall_micro\n",
    "    results[subject]['prec_micro'] = subject_precision_micro\n",
    "    results[subject]['fscore_micro'] = subject_f1_micro\n",
    "    results[subject]['rec_binary']= subject_recall_binary\n",
    "    results[subject]['prec_binary'] = subject_precision_binary\n",
    "    results[subject]['fscore_binary'] = subject_f1_binary\n",
    "    results[subject]['mcc'] = subject_mcc\n",
    "    results[subject]['auc'] = subject_roc_auc_score\n",
    "    \n",
    "subject_cm_path=f\"./output/cross-wireshark-subject_cm.pdf\"\n",
    "print(\"Preparing confusion matrix for the comment subjects.\")\n",
    "\n",
    "figsize=(10,20)\n",
    "cmap='Greens'\n",
    "\n",
    "cf_matrix_all_subject = multilabel_confusion_matrix(y_true_df[subject_columns].values,\n",
    "                                                    subject_preds_df[subject_columns].values, samplewise=False)\n",
    "\n",
    "fig = plt.figure(figsize=figsize)\n",
    "cols = math.ceil(float(len(subject_columns)) / 2.0)\n",
    "#print(cols)\n",
    "gs = gridspec.GridSpec(cols, 2, height_ratios=[1]*cols)\n",
    "gs.update(hspace=0.4, wspace=0.5)\n",
    "\n",
    "for i, cf in enumerate(cf_matrix_all_subject):\n",
    "\n",
    "    row = i // 2\n",
    "    col = i % 2\n",
    "    #print(row, col)\n",
    "    ax = plt.subplot(gs[row, col])\n",
    "\n",
    "    cmn = cf.astype('float') / cf.sum(axis=1)[:, np.newaxis]\n",
    "    perc_labs = [\"{0:.1%}\".format(value) for value in cmn.flatten()]\n",
    "\n",
    "    group_counts = [\"{0:0.0f}\\n\".format(value) for value in cf.flatten()]\n",
    "\n",
    "    box_labels = [f\"{v1}{v2}\".strip() for v1, v2 in zip(group_counts,perc_labs)]\n",
    "    box_labels = np.asarray(box_labels).reshape(cf.shape[0],cf.shape[1])\n",
    "\n",
    "    sns.heatmap(cmn, \n",
    "                annot=box_labels, \n",
    "                fmt='', \n",
    "                annot_kws={\"fontsize\":12},\n",
    "                xticklabels=(\"False\", \"True\"), \n",
    "                yticklabels=(\"False\", \"True\"),\n",
    "            cmap=cmap,\n",
    "            linecolor='lightgray', linewidths=0.5,\n",
    "            square=True,\n",
    "            cbar=False,\n",
    "            vmin=0, vmax=1)\n",
    "    ax.set_title(subject_columns[i])\n",
    "    plt.ylabel('True label')\n",
    "    plt.xlabel('Predicted label')\n",
    "\n",
    "plt.tight_layout()\n",
    "plt.savefig(subject_cm_path)\n",
    "print(f\"Confusion matrix for the comment subject saved to {subject_cm_path}.\")\n",
    "plt.close()"
   ]
  },
  {
   "cell_type": "code",
   "execution_count": 25,
   "metadata": {
    "ExecuteTime": {
     "end_time": "2021-06-29T10:02:29.269605Z",
     "start_time": "2021-06-29T10:02:29.257600Z"
    }
   },
   "outputs": [],
   "source": [
    "with open('./output/res-cross-wireshark.json', 'w') as fp:\n",
    "    json.dump(results, fp, indent=4)"
   ]
  },
  {
   "cell_type": "code",
   "execution_count": 26,
   "metadata": {
    "ExecuteTime": {
     "end_time": "2021-06-29T10:02:30.145637Z",
     "start_time": "2021-06-29T10:02:29.520600Z"
    }
   },
   "outputs": [],
   "source": [
    "results_df = pd.DataFrame(results)\n",
    "results_df.to_excel('./output/res-cross-wireshark.xlsx')"
   ]
  },
  {
   "cell_type": "code",
   "execution_count": 27,
   "metadata": {
    "ExecuteTime": {
     "end_time": "2021-06-29T10:02:30.537638Z",
     "start_time": "2021-06-29T10:02:30.446618Z"
    }
   },
   "outputs": [],
   "source": [
    "results_df = results_df\n",
    "reviews_df = reviews_test_df\n",
    "\n",
    "counts_df = reviews_df[subject_columns].sum()\n",
    "counts_df.name = \"n\"\n",
    "\n",
    "perc_counts_df = reviews_df[subject_columns].sum() / reviews_df.shape[0]\n",
    "perc_counts_df.name = \"perc_count\"\n",
    "\n",
    "summary_dfs = [counts_df, perc_counts_df]\n",
    "for metric in results_df.index.unique().tolist():\n",
    "    metric_df = results_df[results_df.index == metric].mean()\n",
    "    metric_df.name = metric\n",
    "    summary_dfs.append(metric_df)\n",
    "    \n",
    "summary_df = pd.concat(summary_dfs, axis=1)\n",
    "summary_df.to_excel('./output/summary-cross-wireshark.xlsx')"
   ]
  },
  {
   "cell_type": "code",
   "execution_count": null,
   "metadata": {},
   "outputs": [],
   "source": []
  }
 ],
 "metadata": {
  "kernelspec": {
   "display_name": "python-ml2",
   "language": "python",
   "name": "python-ml2"
  },
  "language_info": {
   "codemirror_mode": {
    "name": "ipython",
    "version": 3
   },
   "file_extension": ".py",
   "mimetype": "text/x-python",
   "name": "python",
   "nbconvert_exporter": "python",
   "pygments_lexer": "ipython3",
   "version": "3.6.10"
  },
  "toc": {
   "base_numbering": 1,
   "nav_menu": {},
   "number_sections": true,
   "sideBar": true,
   "skip_h1_title": true,
   "title_cell": "Table of Contents",
   "title_sidebar": "Contents",
   "toc_cell": false,
   "toc_position": {},
   "toc_section_display": true,
   "toc_window_display": false
  },
  "varInspector": {
   "cols": {
    "lenName": 16,
    "lenType": 16,
    "lenVar": 40
   },
   "kernels_config": {
    "python": {
     "delete_cmd_postfix": "",
     "delete_cmd_prefix": "del ",
     "library": "var_list.py",
     "varRefreshCmd": "print(var_dic_list())"
    },
    "r": {
     "delete_cmd_postfix": ") ",
     "delete_cmd_prefix": "rm(",
     "library": "var_list.r",
     "varRefreshCmd": "cat(var_dic_list()) "
    }
   },
   "types_to_exclude": [
    "module",
    "function",
    "builtin_function_or_method",
    "instance",
    "_Feature"
   ],
   "window_display": false
  }
 },
 "nbformat": 4,
 "nbformat_minor": 4
}
